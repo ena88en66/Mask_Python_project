{
 "cells": [
  {
   "cell_type": "markdown",
   "metadata": {},
   "source": [
    "### 1.載入套件"
   ]
  },
  {
   "cell_type": "code",
   "execution_count": 1,
   "metadata": {},
   "outputs": [],
   "source": [
    "# Import some useful packages\n",
    "import matplotlib.pyplot as plt\n",
    "import numpy as np\n",
    "\n",
    "# Layers for FNN\n",
    "from tensorflow.keras.models import Sequential\n",
    "from tensorflow.keras.layers import Dense\n",
    "from tensorflow.keras.layers import Flatten\n",
    "\n",
    "# Layers for CNN\n",
    "from tensorflow.keras.layers import Conv2D , AveragePooling2D, MaxPooling2D\n",
    "from tensorflow.keras.optimizers import SGD, Adam\n",
    "\n",
    "# For data preprocessing\n",
    "from tensorflow.keras import datasets\n",
    "from tensorflow.keras.utils import to_categorical\n",
    "\n",
    "from tensorflow.keras.models import Model\n",
    "from tensorflow.keras.layers import Input\n",
    "from tensorflow.keras.layers import concatenate, add"
   ]
  },
  {
   "cell_type": "markdown",
   "metadata": {},
   "source": [
    "### 2. 匯入資料並進行處理"
   ]
  },
  {
   "cell_type": "code",
   "execution_count": 2,
   "metadata": {},
   "outputs": [],
   "source": [
    "# Load Fashine MNIST\n",
    "(X_train, y_train0), (X_test, y_test0) = datasets.fashion_mnist.load_data()\n",
    "\n",
    "# Reshape size\n",
    "X_train = X_train.reshape(60000,28,28,1)/255\n",
    "X_test = X_test.reshape(10000,28,28,1)/255\n",
    "\n",
    "# One-hot encoding\n",
    "y_train = to_categorical(y_train0, 10)\n",
    "y_test = to_categorical(y_test0, 10)"
   ]
  },
  {
   "cell_type": "markdown",
   "metadata": {},
   "source": [
    "### 3.建構模型 "
   ]
  },
  {
   "cell_type": "code",
   "execution_count": 3,
   "metadata": {},
   "outputs": [],
   "source": [
    "f_1 = Conv2D(16,(3,3),padding='same',activation= 'relu')\n",
    "f_2 = MaxPooling2D(pool_size=(2,2),padding='same')\n",
    "f_3 = Conv2D(32,(3,3),padding='same',activation= 'relu')\n",
    "\n",
    "f_4_1 = MaxPooling2D(pool_size=(2,2),padding='same', data_format=None)\n",
    "f_5_1 = Conv2D(128,(3,3),padding='same',activation= 'relu')\n",
    "f_6_1 = MaxPooling2D(pool_size=(2,2),padding='same', data_format=None)\n",
    "\n",
    "\n",
    "f_4_2 = AveragePooling2D(pool_size=(2, 2 ),padding='same', data_format=None)\n",
    "f_5_2 = Conv2D(128,(3,3),padding='same',activation= 'relu')\n",
    "f_6_2 = AveragePooling2D(pool_size=(2, 2 ),padding='same', data_format=None)\n",
    "\n",
    "f_7 = Flatten()\n",
    "f_8 = Dense(30, activation='relu')\n",
    "f_9 = Dense(10, activation='softmax')"
   ]
  },
  {
   "cell_type": "code",
   "execution_count": 4,
   "metadata": {},
   "outputs": [],
   "source": [
    "x = Input(shape=(28,28,1))"
   ]
  },
  {
   "cell_type": "code",
   "execution_count": 5,
   "metadata": {},
   "outputs": [
    {
     "name": "stdout",
     "output_type": "stream",
     "text": [
      "Tensor(\"input_1:0\", shape=(None, 28, 28, 1), dtype=float32)\n"
     ]
    }
   ],
   "source": [
    "print(x)"
   ]
  },
  {
   "cell_type": "code",
   "execution_count": 6,
   "metadata": {},
   "outputs": [],
   "source": [
    "h_1 = f_1(x)\n",
    "h_2 = f_2(h_1)\n",
    "h_3 = f_3(h_2)\n",
    "h_4_1 = f_4_1(h_3)\n",
    "h_5_1 = f_5_1(h_4_1)\n",
    "h_6_1 = f_6_1(h_5_1)\n",
    "\n",
    "h_4_2 = f_4_2(h_3)\n",
    "h_5_2 = f_5_1(h_4_2)\n",
    "h_6_2 = f_6_1(h_5_2)\n",
    "\n",
    "h_7 = concatenate([h_6_1, h_6_2])\n",
    "h_8 = f_7(h_7)\n",
    "h_9 = f_8(h_8)\n",
    "y= f_9(h_9)"
   ]
  },
  {
   "cell_type": "code",
   "execution_count": 7,
   "metadata": {},
   "outputs": [
    {
     "name": "stdout",
     "output_type": "stream",
     "text": [
      "Model: \"model\"\n",
      "__________________________________________________________________________________________________\n",
      "Layer (type)                    Output Shape         Param #     Connected to                     \n",
      "==================================================================================================\n",
      "input_1 (InputLayer)            [(None, 28, 28, 1)]  0                                            \n",
      "__________________________________________________________________________________________________\n",
      "conv2d (Conv2D)                 (None, 28, 28, 16)   160         input_1[0][0]                    \n",
      "__________________________________________________________________________________________________\n",
      "max_pooling2d (MaxPooling2D)    (None, 14, 14, 16)   0           conv2d[0][0]                     \n",
      "__________________________________________________________________________________________________\n",
      "conv2d_1 (Conv2D)               (None, 14, 14, 32)   4640        max_pooling2d[0][0]              \n",
      "__________________________________________________________________________________________________\n",
      "max_pooling2d_1 (MaxPooling2D)  (None, 7, 7, 32)     0           conv2d_1[0][0]                   \n",
      "__________________________________________________________________________________________________\n",
      "average_pooling2d (AveragePooli (None, 7, 7, 32)     0           conv2d_1[0][0]                   \n",
      "__________________________________________________________________________________________________\n",
      "conv2d_2 (Conv2D)               (None, 7, 7, 128)    36992       max_pooling2d_1[0][0]            \n",
      "                                                                 average_pooling2d[0][0]          \n",
      "__________________________________________________________________________________________________\n",
      "max_pooling2d_2 (MaxPooling2D)  (None, 4, 4, 128)    0           conv2d_2[0][0]                   \n",
      "                                                                 conv2d_2[1][0]                   \n",
      "__________________________________________________________________________________________________\n",
      "concatenate (Concatenate)       (None, 4, 4, 256)    0           max_pooling2d_2[0][0]            \n",
      "                                                                 max_pooling2d_2[1][0]            \n",
      "__________________________________________________________________________________________________\n",
      "flatten (Flatten)               (None, 4096)         0           concatenate[0][0]                \n",
      "__________________________________________________________________________________________________\n",
      "dense (Dense)                   (None, 30)           122910      flatten[0][0]                    \n",
      "__________________________________________________________________________________________________\n",
      "dense_1 (Dense)                 (None, 10)           310         dense[0][0]                      \n",
      "==================================================================================================\n",
      "Total params: 165,012\n",
      "Trainable params: 165,012\n",
      "Non-trainable params: 0\n",
      "__________________________________________________________________________________________________\n"
     ]
    }
   ],
   "source": [
    "model = Model(x, y)\n",
    "model.summary()"
   ]
  },
  {
   "cell_type": "code",
   "execution_count": 8,
   "metadata": {},
   "outputs": [],
   "source": [
    "model.compile(loss= \"categorical_crossentropy\",optimizer=\"adam\",metrics=[\"accuracy\"])"
   ]
  },
  {
   "cell_type": "code",
   "execution_count": 9,
   "metadata": {},
   "outputs": [
    {
     "name": "stdout",
     "output_type": "stream",
     "text": [
      "Train on 60000 samples, validate on 10000 samples\n",
      "Epoch 1/10\n",
      "60000/60000 [==============================] - 60s 1ms/sample - loss: 0.5102 - accuracy: 0.8191 - val_loss: 0.3572 - val_accuracy: 0.8767\n",
      "Epoch 2/10\n",
      "60000/60000 [==============================] - 59s 980us/sample - loss: 0.3177 - accuracy: 0.8856 - val_loss: 0.3196 - val_accuracy: 0.8838\n",
      "Epoch 3/10\n",
      "60000/60000 [==============================] - 60s 997us/sample - loss: 0.2706 - accuracy: 0.9015 - val_loss: 0.2804 - val_accuracy: 0.8971\n",
      "Epoch 4/10\n",
      "60000/60000 [==============================] - 59s 983us/sample - loss: 0.2401 - accuracy: 0.9124 - val_loss: 0.2678 - val_accuracy: 0.9026\n",
      "Epoch 5/10\n",
      "60000/60000 [==============================] - 59s 982us/sample - loss: 0.2161 - accuracy: 0.9211 - val_loss: 0.2455 - val_accuracy: 0.9099\n",
      "Epoch 6/10\n",
      "60000/60000 [==============================] - 61s 1ms/sample - loss: 0.1960 - accuracy: 0.9279 - val_loss: 0.2486 - val_accuracy: 0.9112\n",
      "Epoch 7/10\n",
      "60000/60000 [==============================] - 58s 974us/sample - loss: 0.1793 - accuracy: 0.9355 - val_loss: 0.2433 - val_accuracy: 0.9131\n",
      "Epoch 8/10\n",
      "60000/60000 [==============================] - 60s 993us/sample - loss: 0.1635 - accuracy: 0.9398 - val_loss: 0.2610 - val_accuracy: 0.9069\n",
      "Epoch 9/10\n",
      "60000/60000 [==============================] - 58s 973us/sample - loss: 0.1490 - accuracy: 0.9456 - val_loss: 0.2424 - val_accuracy: 0.9157\n",
      "Epoch 10/10\n",
      "60000/60000 [==============================] - 59s 979us/sample - loss: 0.1363 - accuracy: 0.9499 - val_loss: 0.2537 - val_accuracy: 0.9114\n"
     ]
    },
    {
     "data": {
      "text/plain": [
       "<tensorflow.python.keras.callbacks.History at 0x220a89a0588>"
      ]
     },
     "execution_count": 9,
     "metadata": {},
     "output_type": "execute_result"
    }
   ],
   "source": [
    "model.fit(X_train,y_train,batch_size=50,epochs=10,validation_data=(X_test,y_test))"
   ]
  },
  {
   "cell_type": "code",
   "execution_count": 10,
   "metadata": {},
   "outputs": [
    {
     "name": "stdout",
     "output_type": "stream",
     "text": [
      "WARNING:tensorflow:From c:\\users\\ena88\\appdata\\local\\programs\\python\\python37\\lib\\site-packages\\tensorflow_core\\python\\ops\\resource_variable_ops.py:1781: calling BaseResourceVariable.__init__ (from tensorflow.python.ops.resource_variable_ops) with constraint is deprecated and will be removed in a future version.\n",
      "Instructions for updating:\n",
      "If using Keras pass *_constraint arguments to layers.\n",
      "INFO:tensorflow:Assets written to: myCNNFunctionalAPImodel.h1\\assets\n"
     ]
    }
   ],
   "source": [
    "model.save(\"myCNNFunctionalAPImodel.h1\")"
   ]
  },
  {
   "cell_type": "markdown",
   "metadata": {},
   "source": [
    "### 4.建構模型二"
   ]
  },
  {
   "cell_type": "code",
   "execution_count": 11,
   "metadata": {},
   "outputs": [],
   "source": [
    "f_1_1 = Conv2D(16,(3,3),padding='same',activation= 'relu')\n",
    "f_2_1 = MaxPooling2D(pool_size=(2,2),padding='same')\n",
    "f_3_1 = Conv2D(32,(3,3),padding='same',activation= 'relu')\n",
    "\n",
    "f_4_1_1 = MaxPooling2D(pool_size=(2,2),padding='same', data_format=None)\n",
    "f_5_1_1 = Conv2D(128,(3,3),padding='same',activation= 'relu')\n",
    "f_6_1_1 = MaxPooling2D(pool_size=(2,2),padding='same', data_format=None)\n",
    "\n",
    "\n",
    "f_4_2_1 = AveragePooling2D(pool_size=(2, 2 ),padding='same', data_format=None)\n",
    "f_5_2_1 = Conv2D(128,(3,3),padding='same',activation= 'relu')\n",
    "f_6_2_1 = AveragePooling2D(pool_size=(2, 2 ),padding='same', data_format=None)\n",
    "\n",
    "f_7_1 = Flatten()\n",
    "f_8_1 = Dense(50, activation='relu')\n",
    "f_9_1 = Dense(50, activation='relu') #與模型一相比多加這一層\n",
    "f_10_1 = Dense(10, activation='softmax')"
   ]
  },
  {
   "cell_type": "code",
   "execution_count": 12,
   "metadata": {},
   "outputs": [],
   "source": [
    "x = Input(shape=(28,28,1))"
   ]
  },
  {
   "cell_type": "code",
   "execution_count": 13,
   "metadata": {},
   "outputs": [
    {
     "name": "stdout",
     "output_type": "stream",
     "text": [
      "Tensor(\"input_2:0\", shape=(None, 28, 28, 1), dtype=float32)\n"
     ]
    }
   ],
   "source": [
    "print(x)"
   ]
  },
  {
   "cell_type": "code",
   "execution_count": 14,
   "metadata": {},
   "outputs": [],
   "source": [
    "h_1 = f_1_1(x)\n",
    "h_2 = f_2_1(h_1)\n",
    "h_3 = f_3_1(h_2)\n",
    "h_4_1 = f_4_1_1(h_3)\n",
    "h_5_1 = f_5_1_1(h_4_1)\n",
    "h_6_1 = f_6_1_1(h_5_1)\n",
    "\n",
    "h_4_2 = f_4_2_1(h_3)\n",
    "h_5_2 = f_5_1_1(h_4_2)\n",
    "h_6_2 = f_6_1_1(h_5_2)\n",
    "\n",
    "h_7 = concatenate([h_6_1, h_6_2])\n",
    "h_8 = f_7_1(h_7)\n",
    "h_9 = f_8_1(h_8)\n",
    "h_10 = f_9_1(h_9)\n",
    "y= f_10_1(h_10)"
   ]
  },
  {
   "cell_type": "code",
   "execution_count": 15,
   "metadata": {},
   "outputs": [
    {
     "name": "stdout",
     "output_type": "stream",
     "text": [
      "Model: \"model_1\"\n",
      "__________________________________________________________________________________________________\n",
      "Layer (type)                    Output Shape         Param #     Connected to                     \n",
      "==================================================================================================\n",
      "input_2 (InputLayer)            [(None, 28, 28, 1)]  0                                            \n",
      "__________________________________________________________________________________________________\n",
      "conv2d_4 (Conv2D)               (None, 28, 28, 16)   160         input_2[0][0]                    \n",
      "__________________________________________________________________________________________________\n",
      "max_pooling2d_3 (MaxPooling2D)  (None, 14, 14, 16)   0           conv2d_4[0][0]                   \n",
      "__________________________________________________________________________________________________\n",
      "conv2d_5 (Conv2D)               (None, 14, 14, 32)   4640        max_pooling2d_3[0][0]            \n",
      "__________________________________________________________________________________________________\n",
      "max_pooling2d_4 (MaxPooling2D)  (None, 7, 7, 32)     0           conv2d_5[0][0]                   \n",
      "__________________________________________________________________________________________________\n",
      "average_pooling2d_2 (AveragePoo (None, 7, 7, 32)     0           conv2d_5[0][0]                   \n",
      "__________________________________________________________________________________________________\n",
      "conv2d_6 (Conv2D)               (None, 7, 7, 128)    36992       max_pooling2d_4[0][0]            \n",
      "                                                                 average_pooling2d_2[0][0]        \n",
      "__________________________________________________________________________________________________\n",
      "max_pooling2d_5 (MaxPooling2D)  (None, 4, 4, 128)    0           conv2d_6[0][0]                   \n",
      "                                                                 conv2d_6[1][0]                   \n",
      "__________________________________________________________________________________________________\n",
      "concatenate_1 (Concatenate)     (None, 4, 4, 256)    0           max_pooling2d_5[0][0]            \n",
      "                                                                 max_pooling2d_5[1][0]            \n",
      "__________________________________________________________________________________________________\n",
      "flatten_1 (Flatten)             (None, 4096)         0           concatenate_1[0][0]              \n",
      "__________________________________________________________________________________________________\n",
      "dense_2 (Dense)                 (None, 50)           204850      flatten_1[0][0]                  \n",
      "__________________________________________________________________________________________________\n",
      "dense_3 (Dense)                 (None, 50)           2550        dense_2[0][0]                    \n",
      "__________________________________________________________________________________________________\n",
      "dense_4 (Dense)                 (None, 10)           510         dense_3[0][0]                    \n",
      "==================================================================================================\n",
      "Total params: 249,702\n",
      "Trainable params: 249,702\n",
      "Non-trainable params: 0\n",
      "__________________________________________________________________________________________________\n"
     ]
    }
   ],
   "source": [
    "model2 = Model(x, y)\n",
    "model2.summary()"
   ]
  },
  {
   "cell_type": "code",
   "execution_count": 16,
   "metadata": {},
   "outputs": [],
   "source": [
    "model2.compile(loss= \"categorical_crossentropy\",optimizer=\"adam\",metrics=[\"accuracy\"])"
   ]
  },
  {
   "cell_type": "code",
   "execution_count": 17,
   "metadata": {},
   "outputs": [
    {
     "name": "stdout",
     "output_type": "stream",
     "text": [
      "Train on 60000 samples, validate on 10000 samples\n",
      "Epoch 1/10\n",
      "60000/60000 [==============================] - 63s 1ms/sample - loss: 0.5088 - accuracy: 0.8149 - val_loss: 0.3729 - val_accuracy: 0.8631\n",
      "Epoch 2/10\n",
      "60000/60000 [==============================] - 61s 1ms/sample - loss: 0.3111 - accuracy: 0.8862 - val_loss: 0.3165 - val_accuracy: 0.8854\n",
      "Epoch 3/10\n",
      "60000/60000 [==============================] - 64s 1ms/sample - loss: 0.2663 - accuracy: 0.9021 - val_loss: 0.2708 - val_accuracy: 0.8997\n",
      "Epoch 4/10\n",
      "60000/60000 [==============================] - 64s 1ms/sample - loss: 0.2375 - accuracy: 0.9119 - val_loss: 0.2780 - val_accuracy: 0.8998\n",
      "Epoch 5/10\n",
      "60000/60000 [==============================] - 61s 1ms/sample - loss: 0.2135 - accuracy: 0.9206 - val_loss: 0.2600 - val_accuracy: 0.9058\n",
      "Epoch 6/10\n",
      "60000/60000 [==============================] - 60s 995us/sample - loss: 0.1958 - accuracy: 0.9275 - val_loss: 0.2393 - val_accuracy: 0.9146\n",
      "Epoch 7/10\n",
      "60000/60000 [==============================] - 60s 1ms/sample - loss: 0.1783 - accuracy: 0.9339 - val_loss: 0.2371 - val_accuracy: 0.9146\n",
      "Epoch 8/10\n",
      "60000/60000 [==============================] - 60s 1ms/sample - loss: 0.1630 - accuracy: 0.9399 - val_loss: 0.2572 - val_accuracy: 0.9121\n",
      "Epoch 9/10\n",
      "60000/60000 [==============================] - 61s 1ms/sample - loss: 0.1494 - accuracy: 0.9453 - val_loss: 0.2376 - val_accuracy: 0.9173\n",
      "Epoch 10/10\n",
      "60000/60000 [==============================] - 60s 1ms/sample - loss: 0.1367 - accuracy: 0.9497 - val_loss: 0.2471 - val_accuracy: 0.9195\n"
     ]
    },
    {
     "data": {
      "text/plain": [
       "<tensorflow.python.keras.callbacks.History at 0x220a8da83c8>"
      ]
     },
     "execution_count": 17,
     "metadata": {},
     "output_type": "execute_result"
    }
   ],
   "source": [
    "model2.fit(X_train,y_train,batch_size=50,epochs=10,validation_data=(X_test,y_test))"
   ]
  },
  {
   "cell_type": "markdown",
   "metadata": {},
   "source": [
    "### 5. 模型比較與結論"
   ]
  },
  {
   "cell_type": "markdown",
   "metadata": {},
   "source": [
    "* model1與model2的差異：\n",
    "    model2多了一層dense(50,activation='relu')\n",
    "* 從模型的訓練結果來看，兩者訓練到最後的準確率無太大差異，而且測試資料的準確率從第七、第八次訓練就沒有再增加了。\n",
    "* 但兩個模型的準確率有接近95%、測試資料的準確率有91%，這兩個模型在辨識服裝類資料的效果還是不錯的。"
   ]
  }
 ],
 "metadata": {
  "kernelspec": {
   "display_name": "Python 3",
   "language": "python",
   "name": "python3"
  },
  "language_info": {
   "codemirror_mode": {
    "name": "ipython",
    "version": 3
   },
   "file_extension": ".py",
   "mimetype": "text/x-python",
   "name": "python",
   "nbconvert_exporter": "python",
   "pygments_lexer": "ipython3",
   "version": "3.7.3"
  }
 },
 "nbformat": 4,
 "nbformat_minor": 2
}
