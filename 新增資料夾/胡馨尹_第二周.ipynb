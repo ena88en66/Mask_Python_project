{
 "cells": [
  {
   "cell_type": "markdown",
   "metadata": {},
   "source": [
    "### 第一題(猜數字)"
   ]
  },
  {
   "cell_type": "code",
   "execution_count": 1,
   "metadata": {},
   "outputs": [
    {
     "name": "stdout",
     "output_type": "stream",
     "text": [
      "Populating the interactive namespace from numpy and matplotlib\n"
     ]
    }
   ],
   "source": [
    "%pylab inline"
   ]
  },
  {
   "cell_type": "code",
   "execution_count": 2,
   "metadata": {},
   "outputs": [
    {
     "name": "stdout",
     "output_type": "stream",
     "text": [
      ">> 從1到100猜一個數:45\n",
      "太小了，請繼續猜:78\n",
      "78\n",
      "太小了，請繼續猜:90\n",
      "90\n",
      "太大了，請繼續猜:80\n",
      "80\n",
      "猜對了!\n"
     ]
    }
   ],
   "source": [
    "a = randint(1,100)\n",
    "b = input (\">> 從1到100猜一個數:\")\n",
    "c = int(b)\n",
    "\n",
    "guesstime=0\n",
    "while guesstime>=0:\n",
    "    guesstime = guesstime+1\n",
    "    if (c == a):\n",
    "        print(\"猜對了!\")\n",
    "        break\n",
    "    elif(c < a):\n",
    "        b = input(\"太小了，請繼續猜:\")\n",
    "        c = int(b)\n",
    "        print(c)\n",
    "    else:\n",
    "        b = input(\"太大了，請繼續猜:\")\n",
    "        c = int(b)\n",
    "        print(c)"
   ]
  },
  {
   "cell_type": "markdown",
   "metadata": {},
   "source": [
    "### 第二題(感恩讚嘆機器人)"
   ]
  },
  {
   "cell_type": "code",
   "execution_count": 1,
   "metadata": {},
   "outputs": [],
   "source": [
    "name = '馨尹'"
   ]
  },
  {
   "cell_type": "code",
   "execution_count": 2,
   "metadata": {},
   "outputs": [],
   "source": [
    "message = \"感恩{}，讚嘆{}\".format(name, name)"
   ]
  },
  {
   "cell_type": "code",
   "execution_count": 3,
   "metadata": {},
   "outputs": [
    {
     "name": "stdout",
     "output_type": "stream",
     "text": [
      ">> 你好嗎?\n",
      "感恩馨尹，讚嘆馨尹\n"
     ]
    }
   ],
   "source": [
    "input(\">> \")\n",
    "print(message)"
   ]
  },
  {
   "cell_type": "markdown",
   "metadata": {},
   "source": [
    "### 第三題(寫函數讓字串倒過來排)"
   ]
  },
  {
   "cell_type": "code",
   "execution_count": 7,
   "metadata": {},
   "outputs": [
    {
     "data": {
      "text/plain": [
       "'olleh'"
      ]
     },
     "execution_count": 7,
     "metadata": {},
     "output_type": "execute_result"
    }
   ],
   "source": [
    "def reverse(y):\n",
    "    z = y[::-1]\n",
    "    return (z)\n",
    "st = 'hello'\n",
    "reverse(st)"
   ]
  },
  {
   "cell_type": "markdown",
   "metadata": {},
   "source": [
    "### 挑戰題一【天干地支】"
   ]
  },
  {
   "cell_type": "code",
   "execution_count": 41,
   "metadata": {},
   "outputs": [],
   "source": [
    "天干 = ('甲','乙','丙','丁','戊','己','庚','辛','壬','癸')"
   ]
  },
  {
   "cell_type": "code",
   "execution_count": 42,
   "metadata": {},
   "outputs": [],
   "source": [
    "地支 = ('子','丑','寅','卯','辰','巳','午','未','申','酉','戌','亥')"
   ]
  },
  {
   "cell_type": "code",
   "execution_count": 64,
   "metadata": {},
   "outputs": [],
   "source": [
    "年份 = list(range(2014,2074))"
   ]
  },
  {
   "cell_type": "code",
   "execution_count": 65,
   "metadata": {},
   "outputs": [
    {
     "name": "stdout",
     "output_type": "stream",
     "text": [
      "[2014, 2015, 2016, 2017, 2018, 2019, 2020, 2021, 2022, 2023, 2024, 2025, 2026, 2027, 2028, 2029, 2030, 2031, 2032, 2033, 2034, 2035, 2036, 2037, 2038, 2039, 2040, 2041, 2042, 2043, 2044, 2045, 2046, 2047, 2048, 2049, 2050, 2051, 2052, 2053, 2054, 2055, 2056, 2057, 2058, 2059, 2060, 2061, 2062, 2063, 2064, 2065, 2066, 2067, 2068, 2069, 2070, 2071, 2072, 2073]\n"
     ]
    }
   ],
   "source": [
    "print(年份)"
   ]
  },
  {
   "cell_type": "code",
   "execution_count": 66,
   "metadata": {
    "scrolled": true
   },
   "outputs": [
    {
     "name": "stdout",
     "output_type": "stream",
     "text": [
      "甲午\n",
      "乙未\n",
      "丙申\n",
      "丁酉\n",
      "戊戌\n",
      "己亥\n",
      "庚子\n",
      "辛丑\n",
      "壬寅\n",
      "癸卯\n",
      "甲辰\n",
      "乙巳\n",
      "丙午\n",
      "丁未\n",
      "戊申\n",
      "己酉\n",
      "庚戌\n",
      "辛亥\n",
      "壬子\n",
      "癸丑\n",
      "甲寅\n",
      "乙卯\n",
      "丙辰\n",
      "丁巳\n",
      "戊午\n",
      "己未\n",
      "庚申\n",
      "辛酉\n",
      "壬戌\n",
      "癸亥\n",
      "甲子\n",
      "乙丑\n",
      "丙寅\n",
      "丁卯\n",
      "戊辰\n",
      "己巳\n",
      "庚午\n",
      "辛未\n",
      "壬申\n",
      "癸酉\n",
      "甲戌\n",
      "乙亥\n",
      "丙子\n",
      "丁丑\n",
      "戊寅\n",
      "己卯\n",
      "庚辰\n",
      "辛巳\n",
      "壬午\n",
      "癸未\n",
      "甲申\n",
      "乙酉\n",
      "丙戌\n",
      "丁亥\n",
      "戊子\n",
      "己丑\n",
      "庚寅\n",
      "辛卯\n",
      "壬辰\n",
      "癸巳\n"
     ]
    }
   ],
   "source": [
    "i = 0\n",
    "while i < 60:\n",
    "    年份[i] = 天干[(年份[i]-4)%10] + 地支[(年份[i]-4)%12]\n",
    "    print(年份[i])\n",
    "    i = i + 1"
   ]
  },
  {
   "cell_type": "markdown",
   "metadata": {},
   "source": [
    "### 挑戰題二【我有一棵樹】"
   ]
  },
  {
   "cell_type": "code",
   "execution_count": 89,
   "metadata": {},
   "outputs": [],
   "source": [
    "def tree(x):\n",
    "    for i in range(1,x+1):\n",
    "        print((x-i)*\" \" + (2*i-1)*\"*\")"
   ]
  },
  {
   "cell_type": "code",
   "execution_count": 90,
   "metadata": {},
   "outputs": [
    {
     "name": "stdout",
     "output_type": "stream",
     "text": [
      "     *\n",
      "    ***\n",
      "   *****\n",
      "  *******\n",
      " *********\n",
      "***********\n"
     ]
    }
   ],
   "source": [
    "tree(6)"
   ]
  }
 ],
 "metadata": {
  "kernelspec": {
   "display_name": "Python 3",
   "language": "python",
   "name": "python3"
  },
  "language_info": {
   "codemirror_mode": {
    "name": "ipython",
    "version": 3
   },
   "file_extension": ".py",
   "mimetype": "text/x-python",
   "name": "python",
   "nbconvert_exporter": "python",
   "pygments_lexer": "ipython3",
   "version": "3.7.3"
  }
 },
 "nbformat": 4,
 "nbformat_minor": 2
}
