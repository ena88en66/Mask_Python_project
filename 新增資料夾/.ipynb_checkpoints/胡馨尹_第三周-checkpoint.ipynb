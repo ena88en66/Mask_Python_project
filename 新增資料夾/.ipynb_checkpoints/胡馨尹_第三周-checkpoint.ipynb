{
 "cells": [
  {
   "cell_type": "code",
   "execution_count": 2,
   "metadata": {},
   "outputs": [],
   "source": [
    "import numpy as np\n",
    "import matplotlib.pyplot as plt"
   ]
  },
  {
   "cell_type": "markdown",
   "metadata": {},
   "source": [
    "### 第一題"
   ]
  },
  {
   "cell_type": "code",
   "execution_count": 51,
   "metadata": {},
   "outputs": [
    {
     "name": "stdout",
     "output_type": "stream",
     "text": [
      "[70.2  63.25 67.4  57.7  58.55 49.4  50.2  67.95 54.7  48.65]\n",
      "[37.6  45.85 66.45 21.65 24.7  48.9  66.35 42.35 35.05 48.55]\n",
      "[42.7  62.8  50.85 64.6  46.2  29.45 34.9  44.25 64.1  58.35]\n"
     ]
    }
   ],
   "source": [
    "weights = np.array([0.25,0.25,0.25,0.15,0.10]) #權重\n",
    "\n",
    "a = np.zeros(10)\n",
    "b = np.zeros(10)\n",
    "c = np.zeros(10)\n",
    "\n",
    "for i in range(0,10):\n",
    "    a[i] = np.dot(np.random.randint(0,100,5),weights) \n",
    "    b[i] = np.dot(np.random.randint(0,100,5),weights)\n",
    "    c[i] = np.dot(np.random.randint(0,100,5),weights)\n",
    "\n",
    "print(a)\n",
    "print(b)\n",
    "print(c)"
   ]
  },
  {
   "cell_type": "code",
   "execution_count": 57,
   "metadata": {},
   "outputs": [
    {
     "data": {
      "text/plain": [
       "array([58.8  , 43.745, 49.82 ])"
      ]
     },
     "execution_count": 57,
     "metadata": {},
     "output_type": "execute_result"
    }
   ],
   "source": [
    "np.array([np.mean(a),np.mean(b),np.mean(c)]) #a,b,c班的平均成績"
   ]
  },
  {
   "cell_type": "markdown",
   "metadata": {},
   "source": [
    "### 第二題"
   ]
  },
  {
   "cell_type": "code",
   "execution_count": 60,
   "metadata": {},
   "outputs": [
    {
     "name": "stdout",
     "output_type": "stream",
     "text": [
      "[56 50 58 93 97 13 50 44  0 68  0 37 88 18 32 23 29 60 85 88 77 92 85 12\n",
      " 61 14 27 77 63  2  0 15 46 30 11 66 76 93 31 26]\n"
     ]
    }
   ],
   "source": [
    "grade = np.random.randint(0,100,40)\n",
    "print(grade)"
   ]
  },
  {
   "cell_type": "code",
   "execution_count": 61,
   "metadata": {},
   "outputs": [
    {
     "data": {
      "text/plain": [
       "97"
      ]
     },
     "execution_count": 61,
     "metadata": {},
     "output_type": "execute_result"
    }
   ],
   "source": [
    "np.max(grade) #最高分"
   ]
  },
  {
   "cell_type": "code",
   "execution_count": 62,
   "metadata": {},
   "outputs": [
    {
     "data": {
      "text/plain": [
       "0"
      ]
     },
     "execution_count": 62,
     "metadata": {},
     "output_type": "execute_result"
    }
   ],
   "source": [
    "np.min(grade) #最低分"
   ]
  },
  {
   "cell_type": "code",
   "execution_count": 78,
   "metadata": {},
   "outputs": [
    {
     "name": "stdout",
     "output_type": "stream",
     "text": [
      "[False False False  True  True False False False False  True False False\n",
      "  True False False False False  True  True  True  True  True  True False\n",
      "  True False False  True  True False False False False False False  True\n",
      "  True  True False False]\n"
     ]
    }
   ],
   "source": [
    "ans = grade>=60\n",
    "print(ans)"
   ]
  },
  {
   "cell_type": "code",
   "execution_count": 81,
   "metadata": {},
   "outputs": [
    {
     "data": {
      "text/plain": [
       "16"
      ]
     },
     "execution_count": 81,
     "metadata": {},
     "output_type": "execute_result"
    }
   ],
   "source": [
    "sum(ans==True) #及格人數"
   ]
  },
  {
   "cell_type": "code",
   "execution_count": 82,
   "metadata": {},
   "outputs": [
    {
     "data": {
      "text/plain": [
       "47.325"
      ]
     },
     "execution_count": 82,
     "metadata": {},
     "output_type": "execute_result"
    }
   ],
   "source": [
    "np.mean(grade)"
   ]
  },
  {
   "cell_type": "code",
   "execution_count": 84,
   "metadata": {},
   "outputs": [
    {
     "data": {
      "text/plain": [
       "30.492119883668305"
      ]
     },
     "execution_count": 84,
     "metadata": {},
     "output_type": "execute_result"
    }
   ],
   "source": [
    "np.std(grade) #標準差"
   ]
  },
  {
   "cell_type": "code",
   "execution_count": 124,
   "metadata": {},
   "outputs": [],
   "source": [
    "one = sum(grade<10)\n",
    "grade = grade[grade>=10]\n",
    "two = sum(grade<20)\n",
    "grade = grade[grade>=20]\n",
    "three = sum(grade<30)\n",
    "grade = grade[grade>=30]\n",
    "four = sum(grade<40)\n",
    "grade = grade[grade>=40]\n",
    "five = sum(grade<50)\n",
    "grade = grade[grade>=50]\n",
    "six = sum(grade<60)\n",
    "grade = grade[grade>=60]\n",
    "seven = sum(grade<70)\n",
    "grade = grade[grade>=70]\n",
    "eight = sum(grade<80)\n",
    "grade = grade[grade>=80]\n",
    "nine = sum(grade<90)\n",
    "grade = grade[grade>=90]\n",
    "ten = sum(grade>=90)"
   ]
  },
  {
   "cell_type": "code",
   "execution_count": 126,
   "metadata": {},
   "outputs": [],
   "source": [
    "count = np.array([one,two,three,four,five,six,seven,eight,nine,ten])"
   ]
  },
  {
   "cell_type": "code",
   "execution_count": 129,
   "metadata": {},
   "outputs": [
    {
     "data": {
      "text/plain": [
       "<BarContainer object of 10 artists>"
      ]
     },
     "execution_count": 129,
     "metadata": {},
     "output_type": "execute_result"
    },
    {
     "data": {
      "image/png": "[encoded data removed]",
      "text/plain": [
       "<Figure size 432x288 with 1 Axes>"
      ]
     },
     "metadata": {
      "needs_background": "light"
     },
     "output_type": "display_data"
    }
   ],
   "source": [
    "xname = ('0-9','10-19','20-19','30-39','40-49','50-59','60-69','70-79','80-89','90-100')\n",
    "plt.bar(xname,count) #各分數區間的人數圖"
   ]
  },
  {
   "cell_type": "code",
   "execution_count": null,
   "metadata": {},
   "outputs": [],
   "source": []
  }
 ],
 "metadata": {
  "kernelspec": {
   "display_name": "Python 3",
   "language": "python",
   "name": "python3"
  },
  "language_info": {
   "codemirror_mode": {
    "name": "ipython",
    "version": 3
   },
   "file_extension": ".py",
   "mimetype": "text/x-python",
   "name": "python",
   "nbconvert_exporter": "python",
   "pygments_lexer": "ipython3",
   "version": "3.7.3"
  }
 },
 "nbformat": 4,
 "nbformat_minor": 2
}
