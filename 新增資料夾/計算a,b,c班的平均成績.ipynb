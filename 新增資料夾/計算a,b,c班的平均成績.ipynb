{
 "cells": [
  {
   "cell_type": "code",
   "execution_count": 2,
   "metadata": {},
   "outputs": [],
   "source": [
    "import numpy as np\n",
    "import matplotlib.pyplot as plt"
   ]
  },
  {
   "cell_type": "markdown",
   "metadata": {},
   "source": [
    "### 每班有10人，每人有五科，每個科目有權重"
   ]
  },
  {
   "cell_type": "code",
   "execution_count": 51,
   "metadata": {},
   "outputs": [
    {
     "name": "stdout",
     "output_type": "stream",
     "text": [
      "[70.2  63.25 67.4  57.7  58.55 49.4  50.2  67.95 54.7  48.65]\n",
      "[37.6  45.85 66.45 21.65 24.7  48.9  66.35 42.35 35.05 48.55]\n",
      "[42.7  62.8  50.85 64.6  46.2  29.45 34.9  44.25 64.1  58.35]\n"
     ]
    }
   ],
   "source": [
    "weights = np.array([0.25,0.25,0.25,0.15,0.10]) #權重\n",
    "\n",
    "a = np.zeros(10)\n",
    "b = np.zeros(10)\n",
    "c = np.zeros(10)\n",
    "\n",
    "for i in range(0,10):\n",
    "    a[i] = np.dot(np.random.randint(0,100,5),weights) \n",
    "    b[i] = np.dot(np.random.randint(0,100,5),weights)\n",
    "    c[i] = np.dot(np.random.randint(0,100,5),weights)\n",
    "\n",
    "print(a)\n",
    "print(b)\n",
    "print(c)"
   ]
  },
  {
   "cell_type": "code",
   "execution_count": 57,
   "metadata": {},
   "outputs": [
    {
     "data": {
      "text/plain": [
       "array([58.8  , 43.745, 49.82 ])"
      ]
     },
     "execution_count": 57,
     "metadata": {},
     "output_type": "execute_result"
    }
   ],
   "source": [
    "np.array([np.mean(a),np.mean(b),np.mean(c)]) #a,b,c班的平均成績"
   ]
  }
 ],
 "metadata": {
  "kernelspec": {
   "display_name": "Python 3",
   "language": "python",
   "name": "python3"
  },
  "language_info": {
   "codemirror_mode": {
    "name": "ipython",
    "version": 3
   },
   "file_extension": ".py",
   "mimetype": "text/x-python",
   "name": "python",
   "nbconvert_exporter": "python",
   "pygments_lexer": "ipython3",
   "version": "3.7.3"
  }
 },
 "nbformat": 4,
 "nbformat_minor": 2
}
