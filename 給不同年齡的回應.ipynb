{
 "cells": [
  {
   "cell_type": "code",
   "execution_count": 6,
   "metadata": {},
   "outputs": [
    {
     "name": "stdout",
     "output_type": "stream",
     "text": [
      "今年幾歲：20\n",
      "你想成為怎麼樣的人呢\n"
     ]
    }
   ],
   "source": [
    "a = input(\"今年幾歲：\")\n",
    "def f(a) : \n",
    "    b = int(a)\n",
    "    if b<7:z=\"開心玩遊戲\"\n",
    "    if b>=7 and b<=12:z=\"上學好玩嗎\"\n",
    "    if b>12 and b<18:z=\"記得念書\"\n",
    "    if b>18:z=\"你想成為怎麼樣的人呢\"\n",
    "    return z\n",
    "print(f(a))"
   ]
  },
  {
   "cell_type": "code",
   "execution_count": null,
   "metadata": {},
   "outputs": [],
   "source": []
  }
 ],
 "metadata": {
  "kernelspec": {
   "display_name": "Python 3",
   "language": "python",
   "name": "python3"
  },
  "language_info": {
   "codemirror_mode": {
    "name": "ipython",
    "version": 3
   },
   "file_extension": ".py",
   "mimetype": "text/x-python",
   "name": "python",
   "nbconvert_exporter": "python",
   "pygments_lexer": "ipython3",
   "version": "3.7.3"
  }
 },
 "nbformat": 4,
 "nbformat_minor": 2
}
