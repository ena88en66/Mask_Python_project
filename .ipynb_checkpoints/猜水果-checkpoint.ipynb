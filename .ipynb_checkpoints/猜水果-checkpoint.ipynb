{
 "cells": [
  {
   "cell_type": "code",
   "execution_count": 53,
   "metadata": {},
   "outputs": [
    {
     "name": "stdout",
     "output_type": "stream",
     "text": [
      ">> 猜一種熱帶水果(英文):mango\n",
      "請再想一下，提示:果肉是黃色的pineapple\n",
      "pineapple\n",
      "猜對了!\n"
     ]
    }
   ],
   "source": [
    "a = input (\">> 猜一種熱帶水果(英文):\")\n",
    "b = 'pineapple'\n",
    "\n",
    "guesstime=0\n",
    "while guesstime>=0:\n",
    "    guesstime = guesstime+1\n",
    "    if (a == b):\n",
    "        print(\"猜對了!\")\n",
    "        break\n",
    "    else:\n",
    "        a = input(\"請再想一下，提示:果肉是黃色的\")\n",
    "        print(a)"
   ]
  },
  {
   "cell_type": "code",
   "execution_count": null,
   "metadata": {},
   "outputs": [],
   "source": []
  }
 ],
 "metadata": {
  "kernelspec": {
   "display_name": "Python 3",
   "language": "python",
   "name": "python3"
  },
  "language_info": {
   "codemirror_mode": {
    "name": "ipython",
    "version": 3
   },
   "file_extension": ".py",
   "mimetype": "text/x-python",
   "name": "python",
   "nbconvert_exporter": "python",
   "pygments_lexer": "ipython3",
   "version": "3.7.3"
  }
 },
 "nbformat": 4,
 "nbformat_minor": 2
}
