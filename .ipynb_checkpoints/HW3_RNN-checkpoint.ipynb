{
 "cells": [
  {
   "cell_type": "code",
   "execution_count": 1,
   "metadata": {},
   "outputs": [],
   "source": [
    "%matplotlib inline\n",
    "import numpy as np\n",
    "import matplotlib.pyplot as plt\n",
    "import pandas as pd"
   ]
  },
  {
   "cell_type": "markdown",
   "metadata": {},
   "source": [
    "### 1.讀入深度學習的套件"
   ]
  },
  {
   "cell_type": "code",
   "execution_count": 2,
   "metadata": {},
   "outputs": [],
   "source": [
    "from tensorflow.keras.preprocessing import sequence\n",
    "from tensorflow.keras.models import Sequential\n",
    "from tensorflow.keras.layers import Dense, Embedding\n",
    "from tensorflow.keras.layers import LSTM\n",
    "from tensorflow.keras.datasets import imdb"
   ]
  },
  {
   "cell_type": "markdown",
   "metadata": {},
   "source": [
    "### 2.讀入數據"
   ]
  },
  {
   "cell_type": "code",
   "execution_count": 3,
   "metadata": {},
   "outputs": [],
   "source": [
    "(x_train, y_train), (x_test, y_test) = imdb.load_data(num_words=10000)"
   ]
  },
  {
   "cell_type": "code",
   "execution_count": 4,
   "metadata": {},
   "outputs": [
    {
     "data": {
      "text/plain": [
       "25000"
      ]
     },
     "execution_count": 4,
     "metadata": {},
     "output_type": "execute_result"
    }
   ],
   "source": [
    "len(x_train)"
   ]
  },
  {
   "cell_type": "code",
   "execution_count": 5,
   "metadata": {},
   "outputs": [
    {
     "data": {
      "text/plain": [
       "25000"
      ]
     },
     "execution_count": 5,
     "metadata": {},
     "output_type": "execute_result"
    }
   ],
   "source": [
    "len(x_test)"
   ]
  },
  {
   "cell_type": "code",
   "execution_count": 6,
   "metadata": {},
   "outputs": [
    {
     "data": {
      "text/plain": [
       "218"
      ]
     },
     "execution_count": 6,
     "metadata": {},
     "output_type": "execute_result"
    }
   ],
   "source": [
    "len(x_train[0])"
   ]
  },
  {
   "cell_type": "code",
   "execution_count": 7,
   "metadata": {},
   "outputs": [
    {
     "data": {
      "text/plain": [
       "55"
      ]
     },
     "execution_count": 7,
     "metadata": {},
     "output_type": "execute_result"
    }
   ],
   "source": [
    "len(x_train[134])"
   ]
  },
  {
   "cell_type": "code",
   "execution_count": 8,
   "metadata": {},
   "outputs": [
    {
     "data": {
      "text/plain": [
       "1"
      ]
     },
     "execution_count": 8,
     "metadata": {},
     "output_type": "execute_result"
    }
   ],
   "source": [
    "y_train[0]"
   ]
  },
  {
   "cell_type": "code",
   "execution_count": 9,
   "metadata": {},
   "outputs": [
    {
     "data": {
      "text/plain": [
       "0"
      ]
     },
     "execution_count": 9,
     "metadata": {},
     "output_type": "execute_result"
    }
   ],
   "source": [
    "y_train[134]"
   ]
  },
  {
   "cell_type": "markdown",
   "metadata": {},
   "source": [
    "### 3.資料處理"
   ]
  },
  {
   "cell_type": "code",
   "execution_count": 10,
   "metadata": {},
   "outputs": [],
   "source": [
    "x_train = sequence.pad_sequences(x_train, maxlen=100)\n",
    "x_test = sequence.pad_sequences(x_test, maxlen=100)"
   ]
  },
  {
   "cell_type": "markdown",
   "metadata": {},
   "source": [
    "### 4.打造函數學習機(一)"
   ]
  },
  {
   "cell_type": "code",
   "execution_count": 32,
   "metadata": {},
   "outputs": [],
   "source": [
    "model1 = Sequential()"
   ]
  },
  {
   "cell_type": "code",
   "execution_count": 33,
   "metadata": {},
   "outputs": [],
   "source": [
    "model1.add(Embedding(10000,256))"
   ]
  },
  {
   "cell_type": "code",
   "execution_count": 34,
   "metadata": {},
   "outputs": [],
   "source": [
    "model1.add(LSTM(256,dropout=0.2,recurrent_dropout=0.2))"
   ]
  },
  {
   "cell_type": "code",
   "execution_count": 35,
   "metadata": {},
   "outputs": [],
   "source": [
    "model1.add(Dense(1,activation='sigmoid'))"
   ]
  },
  {
   "cell_type": "code",
   "execution_count": 36,
   "metadata": {},
   "outputs": [],
   "source": [
    "model1.compile(loss='binary_crossentropy',\n",
    "             optimizer='adam',\n",
    "             metrics=['accuracy'])"
   ]
  },
  {
   "cell_type": "code",
   "execution_count": 37,
   "metadata": {},
   "outputs": [
    {
     "name": "stdout",
     "output_type": "stream",
     "text": [
      "Model: \"sequential_1\"\n",
      "_________________________________________________________________\n",
      "Layer (type)                 Output Shape              Param #   \n",
      "=================================================================\n",
      "embedding_2 (Embedding)      (None, None, 256)         2560000   \n",
      "_________________________________________________________________\n",
      "lstm_2 (LSTM)                (None, 256)               525312    \n",
      "_________________________________________________________________\n",
      "dense_1 (Dense)              (None, 1)                 257       \n",
      "=================================================================\n",
      "Total params: 3,085,569\n",
      "Trainable params: 3,085,569\n",
      "Non-trainable params: 0\n",
      "_________________________________________________________________\n"
     ]
    }
   ],
   "source": [
    "model1.summary()"
   ]
  },
  {
   "cell_type": "markdown",
   "metadata": {},
   "source": [
    "### 5.訓練模型一"
   ]
  },
  {
   "cell_type": "code",
   "execution_count": 38,
   "metadata": {},
   "outputs": [
    {
     "name": "stdout",
     "output_type": "stream",
     "text": [
      "Train on 25000 samples, validate on 25000 samples\n",
      "Epoch 1/10\n",
      "25000/25000 [==============================] - 842s 34ms/sample - loss: 0.4504 - accuracy: 0.7916 - val_loss: 0.4405 - val_accuracy: 0.8195\n",
      "Epoch 2/10\n",
      "25000/25000 [==============================] - 791s 32ms/sample - loss: 0.3144 - accuracy: 0.8716 - val_loss: 0.3895 - val_accuracy: 0.8334\n",
      "Epoch 3/10\n",
      "25000/25000 [==============================] - 707s 28ms/sample - loss: 0.2503 - accuracy: 0.9003 - val_loss: 0.3837 - val_accuracy: 0.8378\n",
      "Epoch 4/10\n",
      "25000/25000 [==============================] - 700s 28ms/sample - loss: 0.1937 - accuracy: 0.9249 - val_loss: 0.4411 - val_accuracy: 0.8412\n",
      "Epoch 5/10\n",
      "25000/25000 [==============================] - 699s 28ms/sample - loss: 0.1484 - accuracy: 0.9462 - val_loss: 0.4782 - val_accuracy: 0.8354\n",
      "Epoch 6/10\n",
      "25000/25000 [==============================] - 709s 28ms/sample - loss: 0.1126 - accuracy: 0.9597 - val_loss: 0.4988 - val_accuracy: 0.8358\n",
      "Epoch 7/10\n",
      "25000/25000 [==============================] - 686s 27ms/sample - loss: 0.0933 - accuracy: 0.9677 - val_loss: 0.5689 - val_accuracy: 0.8327\n",
      "Epoch 8/10\n",
      "25000/25000 [==============================] - 685s 27ms/sample - loss: 0.0692 - accuracy: 0.9772 - val_loss: 0.6123 - val_accuracy: 0.8270\n",
      "Epoch 9/10\n",
      "25000/25000 [==============================] - 698s 28ms/sample - loss: 0.0520 - accuracy: 0.9830 - val_loss: 0.7383 - val_accuracy: 0.8254\n",
      "Epoch 10/10\n",
      "25000/25000 [==============================] - 692s 28ms/sample - loss: 0.0376 - accuracy: 0.9875 - val_loss: 0.7800 - val_accuracy: 0.8294\n"
     ]
    },
    {
     "data": {
      "text/plain": [
       "<tensorflow.python.keras.callbacks.History at 0x1bf25f25080>"
      ]
     },
     "execution_count": 38,
     "metadata": {},
     "output_type": "execute_result"
    }
   ],
   "source": [
    "model1.fit(x_train, y_train, batch_size=50, epochs=10,\n",
    "          \n",
    "         validation_data=(x_test,y_test))"
   ]
  },
  {
   "cell_type": "code",
   "execution_count": 39,
   "metadata": {},
   "outputs": [],
   "source": [
    "model1_json = model1.to_json()\n",
    "open('imdb_model_architecture.json', 'w').write(model1_json)\n",
    "model1.save_weights('imdb_model_weights.h5')"
   ]
  },
  {
   "cell_type": "markdown",
   "metadata": {},
   "source": [
    "model1的參數設定：\n",
    "\n",
    "神經元：256\n",
    "\n",
    "dropout=0.2\n",
    "\n",
    "recurrent_dropout=0.2\n",
    "\n",
    "activation='sigmoid'\n",
    "\n",
    "loss='binary_crossentropy'\n",
    "\n",
    "optimizer='adam'\n",
    "\n",
    "訓練時的batch_size=50,epochs=10\n",
    "\n",
    "訓練到第十次的時候，訓練資料的準確率為0.9875。\n",
    "此外，可以發現訓練到第四次的時候，驗證資料的準確率為十次中最高的，其值為0.8412。\n",
    "\n",
    "因此，我想調整dropout rate 和recurrent_dropout rate，看看能否讓驗證資料的準確率更高。"
   ]
  },
  {
   "cell_type": "markdown",
   "metadata": {},
   "source": [
    "### 6. 打造函數學習機與訓練模型二"
   ]
  },
  {
   "cell_type": "code",
   "execution_count": 11,
   "metadata": {},
   "outputs": [],
   "source": [
    "model2 = Sequential()"
   ]
  },
  {
   "cell_type": "code",
   "execution_count": 12,
   "metadata": {},
   "outputs": [],
   "source": [
    "model2.add(Embedding(10000,256))"
   ]
  },
  {
   "cell_type": "code",
   "execution_count": 13,
   "metadata": {},
   "outputs": [],
   "source": [
    "model2.add(LSTM(256,dropout=0.3,recurrent_dropout=0.3))"
   ]
  },
  {
   "cell_type": "code",
   "execution_count": 14,
   "metadata": {},
   "outputs": [],
   "source": [
    "model2.add(Dense(1,activation='sigmoid'))"
   ]
  },
  {
   "cell_type": "code",
   "execution_count": 15,
   "metadata": {},
   "outputs": [],
   "source": [
    "model2.compile(loss='binary_crossentropy',\n",
    "             optimizer='adam',\n",
    "             metrics=['accuracy'])"
   ]
  },
  {
   "cell_type": "code",
   "execution_count": 16,
   "metadata": {},
   "outputs": [
    {
     "name": "stdout",
     "output_type": "stream",
     "text": [
      "Model: \"sequential\"\n",
      "_________________________________________________________________\n",
      "Layer (type)                 Output Shape              Param #   \n",
      "=================================================================\n",
      "embedding (Embedding)        (None, None, 256)         2560000   \n",
      "_________________________________________________________________\n",
      "lstm (LSTM)                  (None, 256)               525312    \n",
      "_________________________________________________________________\n",
      "dense (Dense)                (None, 1)                 257       \n",
      "=================================================================\n",
      "Total params: 3,085,569\n",
      "Trainable params: 3,085,569\n",
      "Non-trainable params: 0\n",
      "_________________________________________________________________\n"
     ]
    }
   ],
   "source": [
    "model2.summary()"
   ]
  },
  {
   "cell_type": "code",
   "execution_count": 17,
   "metadata": {},
   "outputs": [
    {
     "name": "stdout",
     "output_type": "stream",
     "text": [
      "Train on 25000 samples, validate on 25000 samples\n",
      "Epoch 1/10\n",
      "25000/25000 [==============================] - 254s 10ms/sample - loss: 0.4721 - accuracy: 0.7759 - val_loss: 0.4184 - val_accuracy: 0.8133\n",
      "Epoch 2/10\n",
      "25000/25000 [==============================] - 276s 11ms/sample - loss: 0.3594 - accuracy: 0.8482 - val_loss: 0.5540 - val_accuracy: 0.7983\n",
      "Epoch 3/10\n",
      "25000/25000 [==============================] - 285s 11ms/sample - loss: 0.2891 - accuracy: 0.8820 - val_loss: 0.3814 - val_accuracy: 0.8421\n",
      "Epoch 4/10\n",
      "25000/25000 [==============================] - 291s 12ms/sample - loss: 0.2273 - accuracy: 0.9123 - val_loss: 0.4062 - val_accuracy: 0.8272\n",
      "Epoch 5/10\n",
      "25000/25000 [==============================] - 281s 11ms/sample - loss: 0.1791 - accuracy: 0.9307 - val_loss: 0.4497 - val_accuracy: 0.8368\n",
      "Epoch 6/10\n",
      "25000/25000 [==============================] - 281s 11ms/sample - loss: 0.1329 - accuracy: 0.9521 - val_loss: 0.5185 - val_accuracy: 0.8366\n",
      "Epoch 7/10\n",
      "25000/25000 [==============================] - 279s 11ms/sample - loss: 0.1098 - accuracy: 0.9608 - val_loss: 0.5713 - val_accuracy: 0.8364\n",
      "Epoch 8/10\n",
      "25000/25000 [==============================] - 281s 11ms/sample - loss: 0.0826 - accuracy: 0.9712 - val_loss: 0.6156 - val_accuracy: 0.8284\n",
      "Epoch 9/10\n",
      "25000/25000 [==============================] - 281s 11ms/sample - loss: 0.0683 - accuracy: 0.9770 - val_loss: 0.6754 - val_accuracy: 0.8308\n",
      "Epoch 10/10\n",
      "25000/25000 [==============================] - 285s 11ms/sample - loss: 0.0490 - accuracy: 0.9831 - val_loss: 0.6921 - val_accuracy: 0.8255\n"
     ]
    },
    {
     "data": {
      "text/plain": [
       "<tensorflow.python.keras.callbacks.History at 0x1f50047d3c8>"
      ]
     },
     "execution_count": 17,
     "metadata": {},
     "output_type": "execute_result"
    }
   ],
   "source": [
    "model2.fit(x_train, y_train, batch_size=50, epochs=10,\n",
    "          \n",
    "         validation_data=(x_test,y_test))"
   ]
  },
  {
   "cell_type": "code",
   "execution_count": 18,
   "metadata": {},
   "outputs": [],
   "source": [
    "model2_json = model2.to_json()\n",
    "open('imdb_model_architecture.json', 'w').write(model2_json)\n",
    "model2.save_weights('imdb_model_weights.h5')"
   ]
  },
  {
   "cell_type": "markdown",
   "metadata": {},
   "source": [
    "從上面這兩個模型來看，將dropout與recurrent dropout調整為0.3對模型準確率的提升沒有幫助；此外，設定dropout與recurrent dropout為0.2時，模型的表現較佳。我想固定dropout與recurrent dropout在0.2，透過調整其他參數以提升測試資料準確率。因此想試著調整batch_size，看能否提升測試資料的準確率。"
   ]
  },
  {
   "cell_type": "markdown",
   "metadata": {},
   "source": [
    "### 7.打造函數學習機與訓練模型三"
   ]
  },
  {
   "cell_type": "code",
   "execution_count": 11,
   "metadata": {},
   "outputs": [],
   "source": [
    "model3 = Sequential()"
   ]
  },
  {
   "cell_type": "code",
   "execution_count": 12,
   "metadata": {},
   "outputs": [],
   "source": [
    "model3.add(Embedding(10000,256))"
   ]
  },
  {
   "cell_type": "code",
   "execution_count": 13,
   "metadata": {},
   "outputs": [],
   "source": [
    "model3.add(LSTM(256,dropout=0.2,recurrent_dropout=0.2))"
   ]
  },
  {
   "cell_type": "code",
   "execution_count": 14,
   "metadata": {},
   "outputs": [],
   "source": [
    "model3.add(Dense(1,activation='sigmoid'))"
   ]
  },
  {
   "cell_type": "code",
   "execution_count": 15,
   "metadata": {},
   "outputs": [],
   "source": [
    "model3.compile(loss='binary_crossentropy',\n",
    "             optimizer='adam',\n",
    "             metrics=['accuracy'])"
   ]
  },
  {
   "cell_type": "code",
   "execution_count": 16,
   "metadata": {},
   "outputs": [
    {
     "name": "stdout",
     "output_type": "stream",
     "text": [
      "Model: \"sequential\"\n",
      "_________________________________________________________________\n",
      "Layer (type)                 Output Shape              Param #   \n",
      "=================================================================\n",
      "embedding (Embedding)        (None, None, 256)         2560000   \n",
      "_________________________________________________________________\n",
      "lstm (LSTM)                  (None, 256)               525312    \n",
      "_________________________________________________________________\n",
      "dense (Dense)                (None, 1)                 257       \n",
      "=================================================================\n",
      "Total params: 3,085,569\n",
      "Trainable params: 3,085,569\n",
      "Non-trainable params: 0\n",
      "_________________________________________________________________\n"
     ]
    }
   ],
   "source": [
    "model3.summary()"
   ]
  },
  {
   "cell_type": "code",
   "execution_count": 17,
   "metadata": {},
   "outputs": [
    {
     "name": "stdout",
     "output_type": "stream",
     "text": [
      "Train on 25000 samples, validate on 25000 samples\n",
      "Epoch 1/10\n",
      "25000/25000 [==============================] - 419s 17ms/sample - loss: 0.4728 - accuracy: 0.7786 - val_loss: 0.4528 - val_accuracy: 0.7961\n",
      "Epoch 2/10\n",
      "25000/25000 [==============================] - 559s 22ms/sample - loss: 0.3236 - accuracy: 0.8646 - val_loss: 0.3595 - val_accuracy: 0.8423\n",
      "Epoch 3/10\n",
      "25000/25000 [==============================] - 800s 32ms/sample - loss: 0.2358 - accuracy: 0.9078 - val_loss: 0.3767 - val_accuracy: 0.8422\n",
      "Epoch 4/10\n",
      "25000/25000 [==============================] - 3361s 134ms/sample - loss: 0.1676 - accuracy: 0.9374 - val_loss: 0.4446 - val_accuracy: 0.8404\n",
      "Epoch 5/10\n",
      "25000/25000 [==============================] - 833s 33ms/sample - loss: 0.1139 - accuracy: 0.9602 - val_loss: 0.5109 - val_accuracy: 0.8294\n",
      "Epoch 6/10\n",
      "25000/25000 [==============================] - 822s 33ms/sample - loss: 0.0796 - accuracy: 0.9732 - val_loss: 0.5844 - val_accuracy: 0.8254\n",
      "Epoch 7/10\n",
      "25000/25000 [==============================] - 826s 33ms/sample - loss: 0.0585 - accuracy: 0.9808 - val_loss: 0.6301 - val_accuracy: 0.8334\n",
      "Epoch 8/10\n",
      "25000/25000 [==============================] - 817s 33ms/sample - loss: 0.0349 - accuracy: 0.9884 - val_loss: 0.7409 - val_accuracy: 0.8313\n",
      "Epoch 9/10\n",
      "25000/25000 [==============================] - 787s 31ms/sample - loss: 0.0227 - accuracy: 0.9932 - val_loss: 0.8225 - val_accuracy: 0.8315\n",
      "Epoch 10/10\n",
      "25000/25000 [==============================] - 819s 33ms/sample - loss: 0.0229 - accuracy: 0.9930 - val_loss: 0.8568 - val_accuracy: 0.8304\n"
     ]
    },
    {
     "data": {
      "text/plain": [
       "<tensorflow.python.keras.callbacks.History at 0x265c7c8a940>"
      ]
     },
     "execution_count": 17,
     "metadata": {},
     "output_type": "execute_result"
    }
   ],
   "source": [
    "model3.fit(x_train, y_train, batch_size=25, epochs=10,\n",
    "          \n",
    "         validation_data=(x_test,y_test))"
   ]
  },
  {
   "cell_type": "markdown",
   "metadata": {},
   "source": [
    "### 8.打造函數學習機與訓練模型四"
   ]
  },
  {
   "cell_type": "code",
   "execution_count": 11,
   "metadata": {},
   "outputs": [],
   "source": [
    "model4 = Sequential()"
   ]
  },
  {
   "cell_type": "code",
   "execution_count": 12,
   "metadata": {},
   "outputs": [],
   "source": [
    "model4.add(Embedding(10000,256))"
   ]
  },
  {
   "cell_type": "code",
   "execution_count": 13,
   "metadata": {},
   "outputs": [],
   "source": [
    "model4.add(LSTM(256,dropout=0.2,recurrent_dropout=0.2))"
   ]
  },
  {
   "cell_type": "code",
   "execution_count": 14,
   "metadata": {},
   "outputs": [],
   "source": [
    "model4.add(Dense(1,activation='sigmoid'))"
   ]
  },
  {
   "cell_type": "code",
   "execution_count": 15,
   "metadata": {},
   "outputs": [],
   "source": [
    "model4.compile(loss='binary_crossentropy',\n",
    "               optimizer='adam',\n",
    "               metrics=['accuracy'])"
   ]
  },
  {
   "cell_type": "code",
   "execution_count": 16,
   "metadata": {},
   "outputs": [
    {
     "name": "stdout",
     "output_type": "stream",
     "text": [
      "Model: \"sequential\"\n",
      "_________________________________________________________________\n",
      "Layer (type)                 Output Shape              Param #   \n",
      "=================================================================\n",
      "embedding (Embedding)        (None, None, 256)         2560000   \n",
      "_________________________________________________________________\n",
      "lstm (LSTM)                  (None, 256)               525312    \n",
      "_________________________________________________________________\n",
      "dense (Dense)                (None, 1)                 257       \n",
      "=================================================================\n",
      "Total params: 3,085,569\n",
      "Trainable params: 3,085,569\n",
      "Non-trainable params: 0\n",
      "_________________________________________________________________\n"
     ]
    }
   ],
   "source": [
    "model4.summary()"
   ]
  },
  {
   "cell_type": "code",
   "execution_count": 17,
   "metadata": {},
   "outputs": [
    {
     "name": "stdout",
     "output_type": "stream",
     "text": [
      "Train on 25000 samples, validate on 25000 samples\n",
      "Epoch 1/10\n",
      "25000/25000 [==============================] - 931s 37ms/sample - loss: 0.5049 - accuracy: 0.7546 - val_loss: 0.4538 - val_accuracy: 0.7808\n",
      "Epoch 2/10\n",
      "25000/25000 [==============================] - 947s 38ms/sample - loss: 0.3385 - accuracy: 0.8537 - val_loss: 0.3436 - val_accuracy: 0.8470\n",
      "Epoch 3/10\n",
      "25000/25000 [==============================] - 962s 38ms/sample - loss: 0.2264 - accuracy: 0.9101 - val_loss: 0.3454 - val_accuracy: 0.8524\n",
      "Epoch 4/10\n",
      "25000/25000 [==============================] - 943s 38ms/sample - loss: 0.1592 - accuracy: 0.9398 - val_loss: 0.4061 - val_accuracy: 0.8403\n",
      "Epoch 5/10\n",
      "25000/25000 [==============================] - 944s 38ms/sample - loss: 0.1040 - accuracy: 0.9636 - val_loss: 0.5191 - val_accuracy: 0.8413\n",
      "Epoch 6/10\n",
      "25000/25000 [==============================] - 9144s 366ms/sample - loss: 0.0634 - accuracy: 0.9777 - val_loss: 0.6450 - val_accuracy: 0.8335\n",
      "Epoch 7/10\n",
      "25000/25000 [==============================] - 918s 37ms/sample - loss: 0.0394 - accuracy: 0.9866 - val_loss: 0.6980 - val_accuracy: 0.8313\n",
      "Epoch 8/10\n",
      "25000/25000 [==============================] - 930s 37ms/sample - loss: 0.0234 - accuracy: 0.9930 - val_loss: 0.8062 - val_accuracy: 0.8310\n",
      "Epoch 9/10\n",
      "25000/25000 [==============================] - 917s 37ms/sample - loss: 0.0160 - accuracy: 0.9944 - val_loss: 0.9044 - val_accuracy: 0.8254\n",
      "Epoch 10/10\n",
      "25000/25000 [==============================] - 929s 37ms/sample - loss: 0.0127 - accuracy: 0.9959 - val_loss: 1.0242 - val_accuracy: 0.8246\n"
     ]
    },
    {
     "data": {
      "text/plain": [
       "<tensorflow.python.keras.callbacks.History at 0x1410054d2e8>"
      ]
     },
     "execution_count": 17,
     "metadata": {},
     "output_type": "execute_result"
    }
   ],
   "source": [
    "model4.fit(x_train, y_train, batch_size=10, epochs=10,\n",
    "          \n",
    "         validation_data=(x_test,y_test))"
   ]
  },
  {
   "cell_type": "markdown",
   "metadata": {},
   "source": [
    "### 9. 模型比較與結論"
   ]
  },
  {
   "cell_type": "markdown",
   "metadata": {},
   "source": [
    "* 各模型的參數設定相同處：\n",
    "\n",
    "    * 神經元：256\n",
    "\n",
    "    * activation='sigmoid'\n",
    "\n",
    "    * loss='binary_crossentropy'\n",
    "\n",
    "    * optimizer='adam'\n",
    "\n",
    "    * 訓練時的epochs=10"
   ]
  },
  {
   "cell_type": "markdown",
   "metadata": {},
   "source": [
    "* model1的其他參數設定：\n",
    "\n",
    "    * dropout=0.2\n",
    "\n",
    "    * recurrent_dropout=0.2\n",
    "\n",
    "    * 訓練時的batch_size=50"
   ]
  },
  {
   "cell_type": "markdown",
   "metadata": {},
   "source": [
    "* model2的其他參數設定：\n",
    "\n",
    "    * dropout=0.3\n",
    "\n",
    "    * recurrent_dropout=0.3\n",
    "\n",
    "    * 訓練時的batch_size=50"
   ]
  },
  {
   "cell_type": "markdown",
   "metadata": {},
   "source": [
    "* model3的其他參數設定：\n",
    "\n",
    "    * dropout=0.2\n",
    "\n",
    "    * recurrent_dropout=0.2\n",
    "\n",
    "    * 訓練時的batch_size=25"
   ]
  },
  {
   "cell_type": "markdown",
   "metadata": {},
   "source": [
    "* model4的其他參數設定：\n",
    "\n",
    "    * dropout=0.2\n",
    "\n",
    "    * recurrent_dropout=0.2\n",
    "\n",
    "    * 訓練時的batch_size=10"
   ]
  },
  {
   "cell_type": "markdown",
   "metadata": {},
   "source": [
    "* 結論：\n",
    "\n",
    "model1與model2僅有dropout與recurrent_dropout不同，分別為0.2、0.3。\n",
    "\n",
    "從測試資料的準確度來看，model1最高為0.8412、model2最高為0.8421，兩者在第五、六次訓練後，測試資料的準確度都下降。\n",
    "\n",
    "因此，我認為這份資料訓練太多次反而不好，而且dropout與recurrent_dropout在0.2和0.3的差異不大。\n",
    "\n",
    "所以在下面我嘗試調整batch_size，看能不能提升測試資料的準確率。\n",
    "\n",
    "model1、model3、model4的其他參數皆相同，batch_size分別為50、25、10。\n",
    "\n",
    "從測試資料的準確度來看，model1最高為0.8412、model3最高為0.8423、model4最高為0.8524，分別出現在第4、2、3次訓練。\n",
    "\n",
    "這些模型的驗證資料準確率在第五次以後幾乎都下降，只有model3下降後上升再下降。\n",
    "\n",
    "從這三個模型可以看出隨著batch_size減少，測試資料準確度有稍微提升。\n",
    "\n",
    "然而我認為這個模型的訓練次數可以減少到六七次即可，雖然後面訓練資料的準確度高達98%、99%，但是測試資料的準確率卻一直下降。\n",
    "\n"
   ]
  }
 ],
 "metadata": {
  "kernelspec": {
   "display_name": "Python 3",
   "language": "python",
   "name": "python3"
  },
  "language_info": {
   "codemirror_mode": {
    "name": "ipython",
    "version": 3
   },
   "file_extension": ".py",
   "mimetype": "text/x-python",
   "name": "python",
   "nbconvert_exporter": "python",
   "pygments_lexer": "ipython3",
   "version": "3.7.3"
  }
 },
 "nbformat": 4,
 "nbformat_minor": 2
}
