{
 "cells": [
  {
   "cell_type": "code",
   "execution_count": 83,
   "metadata": {},
   "outputs": [],
   "source": [
    "import requests\n",
    "from bs4 import BeautifulSoup"
   ]
  },
  {
   "cell_type": "code",
   "execution_count": 84,
   "metadata": {},
   "outputs": [
    {
     "name": "stdout",
     "output_type": "stream",
     "text": [
      "/bbs/TOEFL_iBT/M.1583759855.A.6E0.html [情報] 語言能力測驗，Duolingo\n",
      "/bbs/TOEFL_iBT/M.1414948222.A.834.html [公告] 托福板板規\n",
      "/bbs/TOEFL_iBT/M.1414948601.A.BC0.html [公告] 考場轉讓 請在此推文\n",
      "/bbs/TOEFL_iBT/M.1414948771.A.854.html [公告] 課程轉讓 教材買賣 請在此推文\n",
      "/bbs/TOEFL_iBT/M.1470800195.A.90B.html [公告] 機經 檢討文 推文區\n",
      "/bbs/TOEFL_iBT/M.1517312426.A.F0D.html [公告] 組長監察公告\n"
     ]
    }
   ],
   "source": [
    "r = requests.get(\"https://www.ptt.cc/bbs/TOEFL_iBT/index.html\") #取得網頁資料\n",
    "soup = BeautifulSoup(r.text,\"html.parser\") #將網頁資料以html.parser\n",
    "sel = soup.select(\"div.title a\") #取HTML標中的 <div class=\"title\"></div> 中的<a>標籤存入sel\n",
    "for s in sel:\n",
    "    print(s[\"href\"], s.text) "
   ]
  }
 ],
 "metadata": {
  "kernelspec": {
   "display_name": "Python 3",
   "language": "python",
   "name": "python3"
  },
  "language_info": {
   "codemirror_mode": {
    "name": "ipython",
    "version": 3
   },
   "file_extension": ".py",
   "mimetype": "text/x-python",
   "name": "python",
   "nbconvert_exporter": "python",
   "pygments_lexer": "ipython3",
   "version": "3.7.3"
  }
 },
 "nbformat": 4,
 "nbformat_minor": 2
}
