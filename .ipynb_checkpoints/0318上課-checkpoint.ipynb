{
 "cells": [
  {
   "cell_type": "markdown",
   "metadata": {},
   "source": [
    "### 資料輸入"
   ]
  },
  {
   "cell_type": "code",
   "execution_count": 2,
   "metadata": {},
   "outputs": [
    {
     "name": "stderr",
     "output_type": "stream",
     "text": [
      "Using TensorFlow backend.\n"
     ]
    }
   ],
   "source": [
    "import numpy as np\n",
    "import matplotlib.pyplot as plt\n",
    "import keras\n",
    "import tensorflow as ts"
   ]
  },
  {
   "cell_type": "code",
   "execution_count": 5,
   "metadata": {},
   "outputs": [],
   "source": [
    "from tensorflow.keras.datasets import mnist"
   ]
  },
  {
   "cell_type": "code",
   "execution_count": 7,
   "metadata": {},
   "outputs": [
    {
     "name": "stdout",
     "output_type": "stream",
     "text": [
      "Downloading data from https://storage.googleapis.com/tensorflow/tf-keras-datasets/mnist.npz\n",
      "11493376/11490434 [==============================] - ETA:  - 5s 0us/step\n"
     ]
    }
   ],
   "source": [
    "(X_train, Y_train),(X_test,Y_test)= mnist.load_data()"
   ]
  },
  {
   "cell_type": "code",
   "execution_count": 9,
   "metadata": {},
   "outputs": [],
   "source": [
    "from matplotlib.pyplot import imshow"
   ]
  },
  {
   "cell_type": "code",
   "execution_count": 10,
   "metadata": {},
   "outputs": [
    {
     "data": {
      "text/plain": [
       "<matplotlib.image.AxesImage at 0x1bac38e2a20>"
      ]
     },
     "execution_count": 10,
     "metadata": {},
     "output_type": "execute_result"
    },
    {
     "data": {
      "image/png": "[encoded data removed]",
      "text/plain": [
       "<Figure size 432x288 with 1 Axes>"
      ]
     },
     "metadata": {
      "needs_background": "light"
     },
     "output_type": "display_data"
    }
   ],
   "source": [
    "imshow(X_train[0])"
   ]
  },
  {
   "cell_type": "code",
   "execution_count": 11,
   "metadata": {},
   "outputs": [],
   "source": [
    "X_train = X_train.reshape(60000,784)/255\n",
    "X_test = X_test.reshape(10000,784)/255"
   ]
  },
  {
   "cell_type": "code",
   "execution_count": 12,
   "metadata": {},
   "outputs": [],
   "source": [
    "from tensorflow.keras.utils import to_categorical"
   ]
  },
  {
   "cell_type": "code",
   "execution_count": 13,
   "metadata": {},
   "outputs": [],
   "source": [
    "Y_train =  to_categorical(Y_train, 10) ##把資料改成one-hot-encoding的格式"
   ]
  },
  {
   "cell_type": "code",
   "execution_count": 14,
   "metadata": {},
   "outputs": [],
   "source": [
    "Y_test = to_categorical(Y_test, 10)"
   ]
  },
  {
   "cell_type": "code",
   "execution_count": 15,
   "metadata": {},
   "outputs": [
    {
     "data": {
      "text/plain": [
       "array([0., 0., 0., 1., 0., 0., 0., 0., 0., 0.], dtype=float32)"
      ]
     },
     "execution_count": 15,
     "metadata": {},
     "output_type": "execute_result"
    }
   ],
   "source": [
    "Y_train[10]"
   ]
  },
  {
   "cell_type": "code",
   "execution_count": 16,
   "metadata": {},
   "outputs": [],
   "source": [
    "from tensorflow.keras.models import Sequential\n",
    "from tensorflow.keras.layers import Dense #fully connected\n",
    "from tensorflow.keras.optimizers import SGD #最標準的學習方式"
   ]
  },
  {
   "cell_type": "markdown",
   "metadata": {},
   "source": [
    "### 打造神經網路"
   ]
  },
  {
   "cell_type": "code",
   "execution_count": 18,
   "metadata": {},
   "outputs": [],
   "source": [
    "model = Sequential()"
   ]
  },
  {
   "cell_type": "code",
   "execution_count": 19,
   "metadata": {},
   "outputs": [],
   "source": [
    "model.add(Dense(87, input_dim=784, activation=\"relu\"))"
   ]
  },
  {
   "cell_type": "code",
   "execution_count": 20,
   "metadata": {},
   "outputs": [],
   "source": [
    "model.add(Dense(87, activation=\"relu\"))"
   ]
  },
  {
   "cell_type": "code",
   "execution_count": 21,
   "metadata": {},
   "outputs": [],
   "source": [
    "model.add(Dense(10, activation=\"softmax\")) #softmax輸出0-1且加總=1"
   ]
  },
  {
   "cell_type": "markdown",
   "metadata": {},
   "source": [
    "### 組裝神經網路"
   ]
  },
  {
   "cell_type": "code",
   "execution_count": 24,
   "metadata": {},
   "outputs": [],
   "source": [
    "model.compile(loss='mse' , optimizer=SGD(lr=0.087) , metrics=['accuracy'])"
   ]
  },
  {
   "cell_type": "code",
   "execution_count": 25,
   "metadata": {},
   "outputs": [
    {
     "name": "stdout",
     "output_type": "stream",
     "text": [
      "Model: \"sequential\"\n",
      "_________________________________________________________________\n",
      "Layer (type)                 Output Shape              Param #   \n",
      "=================================================================\n",
      "dense (Dense)                (None, 87)                68295     \n",
      "_________________________________________________________________\n",
      "dense_1 (Dense)              (None, 87)                7656      \n",
      "_________________________________________________________________\n",
      "dense_2 (Dense)              (None, 10)                880       \n",
      "=================================================================\n",
      "Total params: 76,831\n",
      "Trainable params: 76,831\n",
      "Non-trainable params: 0\n",
      "_________________________________________________________________\n"
     ]
    }
   ],
   "source": [
    "model.summary()"
   ]
  },
  {
   "cell_type": "code",
   "execution_count": 26,
   "metadata": {},
   "outputs": [],
   "source": [
    "# 68295 = 784*87+87(每一個神經元都有一個偏值)\n"
   ]
  },
  {
   "cell_type": "markdown",
   "metadata": {},
   "source": [
    "### 訓練"
   ]
  },
  {
   "cell_type": "code",
   "execution_count": 27,
   "metadata": {},
   "outputs": [
    {
     "name": "stdout",
     "output_type": "stream",
     "text": [
      "Train on 60000 samples\n",
      "Epoch 1/20\n",
      "60000/60000 [==============================] - 2s 26us/sample - loss: 0.0843 - accuracy: 0.3313\n",
      "Epoch 2/20\n",
      "60000/60000 [==============================] - 1s 19us/sample - loss: 0.0558 - accuracy: 0.6704\n",
      "Epoch 3/20\n",
      "60000/60000 [==============================] - 1s 19us/sample - loss: 0.0332 - accuracy: 0.7995\n",
      "Epoch 4/20\n",
      "60000/60000 [==============================] - 1s 19us/sample - loss: 0.0239 - accuracy: 0.8607\n",
      "Epoch 5/20\n",
      "60000/60000 [==============================] - 1s 20us/sample - loss: 0.0199 - accuracy: 0.8799\n",
      "Epoch 6/20\n",
      "60000/60000 [==============================] - 1s 20us/sample - loss: 0.0178 - accuracy: 0.8899\n",
      "Epoch 7/20\n",
      "60000/60000 [==============================] - 1s 20us/sample - loss: 0.0165 - accuracy: 0.8978\n",
      "Epoch 8/20\n",
      "60000/60000 [==============================] - 1s 20us/sample - loss: 0.0155 - accuracy: 0.9028\n",
      "Epoch 9/20\n",
      "60000/60000 [==============================] - 1s 19us/sample - loss: 0.0148 - accuracy: 0.9071\n",
      "Epoch 10/20\n",
      "60000/60000 [==============================] - 1s 19us/sample - loss: 0.0142 - accuracy: 0.9108\n",
      "Epoch 11/20\n",
      "60000/60000 [==============================] - 1s 19us/sample - loss: 0.0137 - accuracy: 0.9135\n",
      "Epoch 12/20\n",
      "60000/60000 [==============================] - ETA: 0s - loss: 0.0132 - accuracy: 0.91 - 1s 19us/sample - loss: 0.0132 - accuracy: 0.9165\n",
      "Epoch 13/20\n",
      "60000/60000 [==============================] - 1s 20us/sample - loss: 0.0128 - accuracy: 0.9194\n",
      "Epoch 14/20\n",
      "60000/60000 [==============================] - 1s 19us/sample - loss: 0.0125 - accuracy: 0.9212\n",
      "Epoch 15/20\n",
      "60000/60000 [==============================] - 1s 19us/sample - loss: 0.0122 - accuracy: 0.9229\n",
      "Epoch 16/20\n",
      "60000/60000 [==============================] - 1s 19us/sample - loss: 0.0119 - accuracy: 0.9247\n",
      "Epoch 17/20\n",
      "60000/60000 [==============================] - 1s 19us/sample - loss: 0.0116 - accuracy: 0.9268\n",
      "Epoch 18/20\n",
      "60000/60000 [==============================] - 1s 19us/sample - loss: 0.0113 - accuracy: 0.9284\n",
      "Epoch 19/20\n",
      "60000/60000 [==============================] - 1s 19us/sample - loss: 0.0111 - accuracy: 0.9298\n",
      "Epoch 20/20\n",
      "60000/60000 [==============================] - 1s 20us/sample - loss: 0.0109 - accuracy: 0.9312\n"
     ]
    },
    {
     "data": {
      "text/plain": [
       "<tensorflow.python.keras.callbacks.History at 0x1babe98fe48>"
      ]
     },
     "execution_count": 27,
     "metadata": {},
     "output_type": "execute_result"
    }
   ],
   "source": [
    "model.fit(X_train, Y_train, batch_size=100, epochs=20)\n",
    "#batch_size每幾次就會檢討並調整參數 epochs=訓練次數"
   ]
  },
  {
   "cell_type": "code",
   "execution_count": 36,
   "metadata": {},
   "outputs": [
    {
     "name": "stdout",
     "output_type": "stream",
     "text": [
      "Train on 60000 samples\n",
      "Epoch 1/30\n",
      "60000/60000 [==============================] - 1s 19us/sample - loss: 0.0107 - accuracy: 0.9329\n",
      "Epoch 2/30\n",
      "60000/60000 [==============================] - 1s 19us/sample - loss: 0.0105 - accuracy: 0.9343\n",
      "Epoch 3/30\n",
      "60000/60000 [==============================] - 1s 19us/sample - loss: 0.0103 - accuracy: 0.9353\n",
      "Epoch 4/30\n",
      "60000/60000 [==============================] - 1s 19us/sample - loss: 0.0101 - accuracy: 0.9364\n",
      "Epoch 5/30\n",
      "60000/60000 [==============================] - 1s 19us/sample - loss: 0.0099 - accuracy: 0.9379\n",
      "Epoch 6/30\n",
      "60000/60000 [==============================] - 1s 19us/sample - loss: 0.0098 - accuracy: 0.9388\n",
      "Epoch 7/30\n",
      "60000/60000 [==============================] - 1s 19us/sample - loss: 0.0096 - accuracy: 0.9398\n",
      "Epoch 8/30\n",
      "60000/60000 [==============================] - 1s 19us/sample - loss: 0.0094 - accuracy: 0.9410\n",
      "Epoch 9/30\n",
      "60000/60000 [==============================] - 1s 19us/sample - loss: 0.0093 - accuracy: 0.9421\n",
      "Epoch 10/30\n",
      "60000/60000 [==============================] - 1s 19us/sample - loss: 0.0092 - accuracy: 0.9429\n",
      "Epoch 11/30\n",
      "60000/60000 [==============================] - ETA: 0s - loss: 0.0090 - accuracy: 0.94 - 1s 19us/sample - loss: 0.0090 - accuracy: 0.9443\n",
      "Epoch 12/30\n",
      "60000/60000 [==============================] - 1s 19us/sample - loss: 0.0089 - accuracy: 0.9448s - loss: 0.0088 - accuracy: \n",
      "Epoch 13/30\n",
      "60000/60000 [==============================] - 1s 20us/sample - loss: 0.0088 - accuracy: 0.9455\n",
      "Epoch 14/30\n",
      "60000/60000 [==============================] - 1s 19us/sample - loss: 0.0086 - accuracy: 0.9463\n",
      "Epoch 15/30\n",
      "60000/60000 [==============================] - 1s 19us/sample - loss: 0.0085 - accuracy: 0.9470\n",
      "Epoch 16/30\n",
      "60000/60000 [==============================] - 1s 19us/sample - loss: 0.0084 - accuracy: 0.9481s - loss: 0.0083 - accura\n",
      "Epoch 17/30\n",
      "60000/60000 [==============================] - 1s 19us/sample - loss: 0.0083 - accuracy: 0.9488\n",
      "Epoch 18/30\n",
      "60000/60000 [==============================] - ETA: 0s - loss: 0.0081 - accuracy: 0.94 - 1s 20us/sample - loss: 0.0082 - accuracy: 0.9494\n",
      "Epoch 19/30\n",
      "60000/60000 [==============================] - 1s 19us/sample - loss: 0.0081 - accuracy: 0.9503\n",
      "Epoch 20/30\n",
      "60000/60000 [==============================] - 1s 19us/sample - loss: 0.0079 - accuracy: 0.9508\n",
      "Epoch 21/30\n",
      "60000/60000 [==============================] - 1s 20us/sample - loss: 0.0078 - accuracy: 0.9512\n",
      "Epoch 22/30\n",
      "60000/60000 [==============================] - 1s 21us/sample - loss: 0.0077 - accuracy: 0.9522\n",
      "Epoch 23/30\n",
      "60000/60000 [==============================] - 1s 22us/sample - loss: 0.0077 - accuracy: 0.9526\n",
      "Epoch 24/30\n",
      "60000/60000 [==============================] - 1s 21us/sample - loss: 0.0076 - accuracy: 0.9532\n",
      "Epoch 25/30\n",
      "60000/60000 [==============================] - 1s 21us/sample - loss: 0.0075 - accuracy: 0.9538\n",
      "Epoch 26/30\n",
      "60000/60000 [==============================] - 1s 22us/sample - loss: 0.0074 - accuracy: 0.9544\n",
      "Epoch 27/30\n",
      "60000/60000 [==============================] - 1s 21us/sample - loss: 0.0073 - accuracy: 0.9551\n",
      "Epoch 28/30\n",
      "60000/60000 [==============================] - 1s 21us/sample - loss: 0.0072 - accuracy: 0.9558\n",
      "Epoch 29/30\n",
      "60000/60000 [==============================] - 1s 21us/sample - loss: 0.0071 - accuracy: 0.9559\n",
      "Epoch 30/30\n",
      "60000/60000 [==============================] - 1s 21us/sample - loss: 0.0070 - accuracy: 0.9571\n"
     ]
    },
    {
     "data": {
      "text/plain": [
       "<tensorflow.python.keras.callbacks.History at 0x1bac00da5c0>"
      ]
     },
     "execution_count": 36,
     "metadata": {},
     "output_type": "execute_result"
    }
   ],
   "source": [
    "model.fit(X_train, Y_train, batch_size=100, epochs=30)"
   ]
  },
  {
   "cell_type": "code",
   "execution_count": 28,
   "metadata": {},
   "outputs": [],
   "source": [
    "result = model.predict_classes(X_test)"
   ]
  },
  {
   "cell_type": "code",
   "execution_count": 46,
   "metadata": {},
   "outputs": [
    {
     "name": "stdout",
     "output_type": "stream",
     "text": [
      "神經網路預測是: 7\n"
     ]
    },
    {
     "data": {
      "text/plain": [
       "<matplotlib.image.AxesImage at 0x1babed947f0>"
      ]
     },
     "execution_count": 46,
     "metadata": {},
     "output_type": "execute_result"
    },
    {
     "data": {
      "image/png": "[encoded data removed]",
      "text/plain": [
       "<Figure size 432x288 with 1 Axes>"
      ]
     },
     "metadata": {
      "needs_background": "light"
     },
     "output_type": "display_data"
    }
   ],
   "source": [
    "n = 6796\n",
    "\n",
    "print('神經網路預測是:',result[n])\n",
    "plt.imshow(X_test[n].reshape(28,28), cmap='Greys')"
   ]
  },
  {
   "cell_type": "code",
   "execution_count": null,
   "metadata": {},
   "outputs": [],
   "source": []
  }
 ],
 "metadata": {
  "kernelspec": {
   "display_name": "Python 3",
   "language": "python",
   "name": "python3"
  },
  "language_info": {
   "codemirror_mode": {
    "name": "ipython",
    "version": 3
   },
   "file_extension": ".py",
   "mimetype": "text/x-python",
   "name": "python",
   "nbconvert_exporter": "python",
   "pygments_lexer": "ipython3",
   "version": "3.7.3"
  }
 },
 "nbformat": 4,
 "nbformat_minor": 2
}
