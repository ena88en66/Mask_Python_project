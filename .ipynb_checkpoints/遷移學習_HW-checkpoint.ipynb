{
 "cells": [
  {
   "cell_type": "markdown",
   "metadata": {},
   "source": [
    "### 1.載入套件"
   ]
  },
  {
   "cell_type": "code",
   "execution_count": 1,
   "metadata": {},
   "outputs": [],
   "source": [
    "# Import some useful packages\n",
    "import matplotlib.pyplot as plt\n",
    "import numpy as np\n",
    "\n",
    "# Layers for FNN\n",
    "from tensorflow.keras.models import Sequential\n",
    "from tensorflow.keras.layers import Dense\n",
    "from tensorflow.keras.layers import Flatten\n",
    "\n",
    "# Layers for CNN\n",
    "from tensorflow.keras.layers import Conv2D, MaxPool2D, GlobalAveragePooling2D\n",
    "from tensorflow.keras.optimizers import SGD, Adam\n",
    "\n",
    "# For data preprocessing\n",
    "from tensorflow.keras import datasets\n",
    "from tensorflow.keras.utils import to_categorical"
   ]
  },
  {
   "cell_type": "markdown",
   "metadata": {},
   "source": [
    "### 2. 使用Fashion_mnist資料集 -- 讀取資料並進行資料前處理"
   ]
  },
  {
   "cell_type": "code",
   "execution_count": 11,
   "metadata": {},
   "outputs": [
    {
     "data": {
      "image/png": "[encoded data removed]",
      "text/plain": [
       "<Figure size 432x288 with 1 Axes>"
      ]
     },
     "metadata": {
      "needs_background": "light"
     },
     "output_type": "display_data"
    }
   ],
   "source": [
    "# Load fashion_mnist\n",
    "(X_train, y_train0), (X_test, y_test0) = datasets.fashion_mnist.load_data()\n",
    "\n",
    "# 檢視圖片的樣子\n",
    "idx = np.random.randint(X_train.shape[0])\n",
    "X_sample = X_train[idx]\n",
    "y_sample = y_train0[idx].squeeze()\n",
    "\n",
    "plt.imshow(X_sample)\n",
    "plt.title([y_sample])\n",
    "plt.axis('off');"
   ]
  },
  {
   "cell_type": "code",
   "execution_count": 12,
   "metadata": {},
   "outputs": [],
   "source": [
    "# Normalize and reshape the range of features\n",
    "X_train = X_train.reshape(60000,28,28,1)/255\n",
    "X_test = X_test.reshape(10000,28,28,1)/255\n",
    "\n",
    "# One-hot encoding\n",
    "y_train = to_categorical(y_train0, 10)\n",
    "y_test = to_categorical(y_test0, 10)"
   ]
  },
  {
   "cell_type": "code",
   "execution_count": 13,
   "metadata": {},
   "outputs": [
    {
     "data": {
      "text/plain": [
       "(60000, 28, 28, 1)"
      ]
     },
     "execution_count": 13,
     "metadata": {},
     "output_type": "execute_result"
    }
   ],
   "source": [
    "X_train.shape"
   ]
  },
  {
   "cell_type": "code",
   "execution_count": 14,
   "metadata": {},
   "outputs": [
    {
     "data": {
      "text/plain": [
       "(28, 28, 1)"
      ]
     },
     "execution_count": 14,
     "metadata": {},
     "output_type": "execute_result"
    }
   ],
   "source": [
    "X_train[0].shape"
   ]
  },
  {
   "cell_type": "markdown",
   "metadata": {},
   "source": [
    "### 3.建立分類 Fashion_mnist 的模型"
   ]
  },
  {
   "cell_type": "markdown",
   "metadata": {},
   "source": [
    "* 模型CNN部分：有3個conv2D+Maxpooling及1個conv2D+GlobalAveragePooling2D\n",
    "* 模型全連結層部分：一層50個神經元、一層250個神經元、最後一層為輸出層，有10個神經元"
   ]
  },
  {
   "cell_type": "code",
   "execution_count": 33,
   "metadata": {},
   "outputs": [],
   "source": [
    "CNN_layers = [Conv2D(32, (3, 3), input_shape=(28, 28, 1), padding='same', activation='relu', name='Conv_1'),\n",
    "              MaxPool2D(),\n",
    "              Conv2D(64, (3, 3), padding='same', activation='relu', name='Conv_2'),\n",
    "              MaxPool2D(),\n",
    "              Conv2D(128, (3, 3), padding='same', activation='relu', name='Conv_3'),\n",
    "              MaxPool2D(),\n",
    "              Conv2D(256, (3, 3), padding='same', activation='relu', name='Conv_4'),\n",
    "              GlobalAveragePooling2D()]\n",
    "FC_layers = [Dense(units=50, activation='relu'),\n",
    "             Dense(units=250, activation='relu'),\n",
    "             Dense(units=10, activation='softmax')]"
   ]
  },
  {
   "cell_type": "code",
   "execution_count": 34,
   "metadata": {},
   "outputs": [
    {
     "data": {
      "text/plain": [
       "[<tensorflow.python.keras.layers.convolutional.Conv2D at 0x20fcecf4ba8>,\n",
       " <tensorflow.python.keras.layers.pooling.MaxPooling2D at 0x20fcecf4fd0>,\n",
       " <tensorflow.python.keras.layers.convolutional.Conv2D at 0x20fcecf7240>,\n",
       " <tensorflow.python.keras.layers.pooling.MaxPooling2D at 0x20fcecf7668>,\n",
       " <tensorflow.python.keras.layers.convolutional.Conv2D at 0x20fcecf7860>,\n",
       " <tensorflow.python.keras.layers.pooling.MaxPooling2D at 0x20fcecf7d30>,\n",
       " <tensorflow.python.keras.layers.convolutional.Conv2D at 0x20fcecf7f28>,\n",
       " <tensorflow.python.keras.layers.pooling.GlobalAveragePooling2D at 0x20fcecf6390>,\n",
       " <tensorflow.python.keras.layers.core.Dense at 0x20fcecf4b70>,\n",
       " <tensorflow.python.keras.layers.core.Dense at 0x20fcecf6748>,\n",
       " <tensorflow.python.keras.layers.core.Dense at 0x20fcecf6a20>]"
      ]
     },
     "execution_count": 34,
     "metadata": {},
     "output_type": "execute_result"
    }
   ],
   "source": [
    "CNN_layers + FC_layers"
   ]
  },
  {
   "cell_type": "code",
   "execution_count": 35,
   "metadata": {},
   "outputs": [
    {
     "name": "stdout",
     "output_type": "stream",
     "text": [
      "Model: \"sequential_4\"\n",
      "_________________________________________________________________\n",
      "Layer (type)                 Output Shape              Param #   \n",
      "=================================================================\n",
      "Conv_1 (Conv2D)              (None, 28, 28, 32)        320       \n",
      "_________________________________________________________________\n",
      "max_pooling2d_12 (MaxPooling (None, 14, 14, 32)        0         \n",
      "_________________________________________________________________\n",
      "Conv_2 (Conv2D)              (None, 14, 14, 64)        18496     \n",
      "_________________________________________________________________\n",
      "max_pooling2d_13 (MaxPooling (None, 7, 7, 64)          0         \n",
      "_________________________________________________________________\n",
      "Conv_3 (Conv2D)              (None, 7, 7, 128)         73856     \n",
      "_________________________________________________________________\n",
      "max_pooling2d_14 (MaxPooling (None, 3, 3, 128)         0         \n",
      "_________________________________________________________________\n",
      "Conv_4 (Conv2D)              (None, 3, 3, 256)         295168    \n",
      "_________________________________________________________________\n",
      "global_average_pooling2d_4 ( (None, 256)               0         \n",
      "_________________________________________________________________\n",
      "dense_12 (Dense)             (None, 50)                12850     \n",
      "_________________________________________________________________\n",
      "dense_13 (Dense)             (None, 250)               12750     \n",
      "_________________________________________________________________\n",
      "dense_14 (Dense)             (None, 10)                2510      \n",
      "=================================================================\n",
      "Total params: 415,950\n",
      "Trainable params: 415,950\n",
      "Non-trainable params: 0\n",
      "_________________________________________________________________\n"
     ]
    }
   ],
   "source": [
    "model = Sequential(CNN_layers + FC_layers) #組裝模型\n",
    "model.summary() #模型摘要"
   ]
  },
  {
   "cell_type": "code",
   "execution_count": 36,
   "metadata": {},
   "outputs": [],
   "source": [
    "model.compile(loss='categorical_crossentropy', \n",
    "              optimizer=Adam(),\n",
    "              metrics=['categorical_accuracy']) #編譯模型"
   ]
  },
  {
   "cell_type": "code",
   "execution_count": 37,
   "metadata": {},
   "outputs": [
    {
     "name": "stdout",
     "output_type": "stream",
     "text": [
      "Train on 60000 samples, validate on 10000 samples\n",
      "Epoch 1/8\n",
      "60000/60000 [==============================] - 67s 1ms/sample - loss: 1.0484 - categorical_accuracy: 0.5979 - val_loss: 0.7429 - val_categorical_accuracy: 0.7153\n",
      "Epoch 2/8\n",
      "60000/60000 [==============================] - 66s 1ms/sample - loss: 0.6159 - categorical_accuracy: 0.7669 - val_loss: 0.5755 - val_categorical_accuracy: 0.7881\n",
      "Epoch 3/8\n",
      "60000/60000 [==============================] - 66s 1ms/sample - loss: 0.5231 - categorical_accuracy: 0.8055 - val_loss: 0.5036 - val_categorical_accuracy: 0.8190\n",
      "Epoch 4/8\n",
      "60000/60000 [==============================] - 66s 1ms/sample - loss: 0.4554 - categorical_accuracy: 0.8343 - val_loss: 0.4617 - val_categorical_accuracy: 0.8285\n",
      "Epoch 5/8\n",
      "60000/60000 [==============================] - 66s 1ms/sample - loss: 0.4198 - categorical_accuracy: 0.8459 - val_loss: 0.4247 - val_categorical_accuracy: 0.8445\n",
      "Epoch 6/8\n",
      "60000/60000 [==============================] - 66s 1ms/sample - loss: 0.3819 - categorical_accuracy: 0.8611 - val_loss: 0.3842 - val_categorical_accuracy: 0.8639\n",
      "Epoch 7/8\n",
      "60000/60000 [==============================] - 67s 1ms/sample - loss: 0.3521 - categorical_accuracy: 0.8724 - val_loss: 0.3520 - val_categorical_accuracy: 0.8732\n",
      "Epoch 8/8\n",
      "60000/60000 [==============================] - 66s 1ms/sample - loss: 0.3367 - categorical_accuracy: 0.8760 - val_loss: 0.3654 - val_categorical_accuracy: 0.8662\n"
     ]
    },
    {
     "data": {
      "text/plain": [
       "<tensorflow.python.keras.callbacks.History at 0x20fceea5dd8>"
      ]
     },
     "execution_count": 37,
     "metadata": {},
     "output_type": "execute_result"
    }
   ],
   "source": [
    "model.fit(X_train,y_train,batch_size=500,epochs=8,validation_data=(X_test,y_test)) #訓練模型"
   ]
  },
  {
   "cell_type": "code",
   "execution_count": 39,
   "metadata": {},
   "outputs": [],
   "source": [
    "model.save_weights('Fashion_1.h5') #儲存模型權重"
   ]
  },
  {
   "cell_type": "markdown",
   "metadata": {},
   "source": [
    "model.load_weights('Fashion_1.h5')\n",
    "\n",
    "score_train = model.evaluate(X_train, y_train) #評估訓練資料準確率\n",
    "\n",
    "score_test = model.evaluate(X_test, y_test) #評估測試資料準確率"
   ]
  },
  {
   "cell_type": "code",
   "execution_count": 65,
   "metadata": {},
   "outputs": [
    {
     "name": "stdout",
     "output_type": "stream",
     "text": [
      "Train Accuracy: 87.68500089645386\n",
      "Test Accuracy: 86.61999702453613\n"
     ]
    }
   ],
   "source": [
    "print(f'Train Accuracy: {score_train[1]*100}')\n",
    "print(f'Test Accuracy: {score_test[1]*100}') "
   ]
  },
  {
   "cell_type": "markdown",
   "metadata": {},
   "source": [
    "### 4.使用遷移學習的方法來建立模型"
   ]
  },
  {
   "cell_type": "markdown",
   "metadata": {},
   "source": [
    "#### 4.1 載入Mnist資料及並對其進行資料前處理"
   ]
  },
  {
   "cell_type": "code",
   "execution_count": 44,
   "metadata": {},
   "outputs": [
    {
     "data": {
      "image/png": "[encoded data removed]",
      "text/plain": [
       "<Figure size 432x288 with 1 Axes>"
      ]
     },
     "metadata": {
      "needs_background": "light"
     },
     "output_type": "display_data"
    }
   ],
   "source": [
    "# Load Mnist data\n",
    "(U_train, v_train0), (U_test, v_test0) = datasets.mnist.load_data()\n",
    "\n",
    "# 檢視圖片的樣子\n",
    "idx = np.random.randint(U_train.shape[0])\n",
    "U_sample = U_train[idx]\n",
    "v_sample = v_train0[idx].squeeze()\n",
    "\n",
    "plt.imshow(U_sample)\n",
    "plt.title([v_sample])\n",
    "plt.axis('off');"
   ]
  },
  {
   "cell_type": "code",
   "execution_count": 45,
   "metadata": {},
   "outputs": [],
   "source": [
    "# Normalize the range of features and reshape size\n",
    "U_train = U_train.reshape(60000,28,28,1)/255\n",
    "U_test = U_test.reshape(10000,28,28,1)/255\n",
    "\n",
    "# One-hot encoding\n",
    "v_train = to_categorical(v_train0, 10)\n",
    "v_test = to_categorical(v_test0, 10)"
   ]
  },
  {
   "cell_type": "markdown",
   "metadata": {},
   "source": [
    "#### 4.2 利用transfer learning建立Mnist的模型"
   ]
  },
  {
   "cell_type": "code",
   "execution_count": 46,
   "metadata": {},
   "outputs": [],
   "source": [
    "# From LeNet-5 for Fashion_mnist\n",
    "CNN_layers #CNN是跟別人借來的\n",
    "\n",
    "# New FC layers for Mnist\n",
    "FC_layers_Mnist = [Dense(units=128, activation='relu'),\n",
    "                   Dense(units=256, activation='relu'),\n",
    "                   Dense(units=10, activation='softmax')]"
   ]
  },
  {
   "cell_type": "code",
   "execution_count": 47,
   "metadata": {},
   "outputs": [
    {
     "name": "stdout",
     "output_type": "stream",
     "text": [
      "Model: \"sequential_5\"\n",
      "_________________________________________________________________\n",
      "Layer (type)                 Output Shape              Param #   \n",
      "=================================================================\n",
      "Conv_1 (Conv2D)              (None, 28, 28, 32)        320       \n",
      "_________________________________________________________________\n",
      "max_pooling2d_12 (MaxPooling (None, 14, 14, 32)        0         \n",
      "_________________________________________________________________\n",
      "Conv_2 (Conv2D)              (None, 14, 14, 64)        18496     \n",
      "_________________________________________________________________\n",
      "max_pooling2d_13 (MaxPooling (None, 7, 7, 64)          0         \n",
      "_________________________________________________________________\n",
      "Conv_3 (Conv2D)              (None, 7, 7, 128)         73856     \n",
      "_________________________________________________________________\n",
      "max_pooling2d_14 (MaxPooling (None, 3, 3, 128)         0         \n",
      "_________________________________________________________________\n",
      "Conv_4 (Conv2D)              (None, 3, 3, 256)         295168    \n",
      "_________________________________________________________________\n",
      "global_average_pooling2d_4 ( (None, 256)               0         \n",
      "_________________________________________________________________\n",
      "dense_15 (Dense)             (None, 128)               32896     \n",
      "_________________________________________________________________\n",
      "dense_16 (Dense)             (None, 256)               33024     \n",
      "_________________________________________________________________\n",
      "dense_17 (Dense)             (None, 10)                2570      \n",
      "=================================================================\n",
      "Total params: 456,330\n",
      "Trainable params: 456,330\n",
      "Non-trainable params: 0\n",
      "_________________________________________________________________\n"
     ]
    }
   ],
   "source": [
    "model_Mnist = Sequential(CNN_layers+FC_layers_Mnist) #組裝模型\n",
    "model_Mnist.summary()"
   ]
  },
  {
   "cell_type": "code",
   "execution_count": 48,
   "metadata": {},
   "outputs": [
    {
     "name": "stdout",
     "output_type": "stream",
     "text": [
      "Model: \"sequential_4\"\n",
      "_________________________________________________________________\n",
      "Layer (type)                 Output Shape              Param #   \n",
      "=================================================================\n",
      "Conv_1 (Conv2D)              (None, 28, 28, 32)        320       \n",
      "_________________________________________________________________\n",
      "max_pooling2d_12 (MaxPooling (None, 14, 14, 32)        0         \n",
      "_________________________________________________________________\n",
      "Conv_2 (Conv2D)              (None, 14, 14, 64)        18496     \n",
      "_________________________________________________________________\n",
      "max_pooling2d_13 (MaxPooling (None, 7, 7, 64)          0         \n",
      "_________________________________________________________________\n",
      "Conv_3 (Conv2D)              (None, 7, 7, 128)         73856     \n",
      "_________________________________________________________________\n",
      "max_pooling2d_14 (MaxPooling (None, 3, 3, 128)         0         \n",
      "_________________________________________________________________\n",
      "Conv_4 (Conv2D)              (None, 3, 3, 256)         295168    \n",
      "_________________________________________________________________\n",
      "global_average_pooling2d_4 ( (None, 256)               0         \n",
      "_________________________________________________________________\n",
      "dense_12 (Dense)             (None, 50)                12850     \n",
      "_________________________________________________________________\n",
      "dense_13 (Dense)             (None, 250)               12750     \n",
      "_________________________________________________________________\n",
      "dense_14 (Dense)             (None, 10)                2510      \n",
      "=================================================================\n",
      "Total params: 415,950\n",
      "Trainable params: 415,950\n",
      "Non-trainable params: 0\n",
      "_________________________________________________________________\n"
     ]
    }
   ],
   "source": [
    "model.summary()"
   ]
  },
  {
   "cell_type": "markdown",
   "metadata": {},
   "source": [
    "* model與model_Mnist的差異：後面的全連結層不同，前面的卷積與持化層(CNN部分)相同"
   ]
  },
  {
   "cell_type": "markdown",
   "metadata": {},
   "source": [
    "#### 4.2.1 Frozen法"
   ]
  },
  {
   "cell_type": "code",
   "execution_count": 49,
   "metadata": {},
   "outputs": [],
   "source": [
    "for layer in CNN_layers:\n",
    "    layer.trainable = False"
   ]
  },
  {
   "cell_type": "code",
   "execution_count": 50,
   "metadata": {},
   "outputs": [
    {
     "name": "stdout",
     "output_type": "stream",
     "text": [
      "Model: \"sequential_5\"\n",
      "_________________________________________________________________\n",
      "Layer (type)                 Output Shape              Param #   \n",
      "=================================================================\n",
      "Conv_1 (Conv2D)              (None, 28, 28, 32)        320       \n",
      "_________________________________________________________________\n",
      "max_pooling2d_12 (MaxPooling (None, 14, 14, 32)        0         \n",
      "_________________________________________________________________\n",
      "Conv_2 (Conv2D)              (None, 14, 14, 64)        18496     \n",
      "_________________________________________________________________\n",
      "max_pooling2d_13 (MaxPooling (None, 7, 7, 64)          0         \n",
      "_________________________________________________________________\n",
      "Conv_3 (Conv2D)              (None, 7, 7, 128)         73856     \n",
      "_________________________________________________________________\n",
      "max_pooling2d_14 (MaxPooling (None, 3, 3, 128)         0         \n",
      "_________________________________________________________________\n",
      "Conv_4 (Conv2D)              (None, 3, 3, 256)         295168    \n",
      "_________________________________________________________________\n",
      "global_average_pooling2d_4 ( (None, 256)               0         \n",
      "_________________________________________________________________\n",
      "dense_15 (Dense)             (None, 128)               32896     \n",
      "_________________________________________________________________\n",
      "dense_16 (Dense)             (None, 256)               33024     \n",
      "_________________________________________________________________\n",
      "dense_17 (Dense)             (None, 10)                2570      \n",
      "=================================================================\n",
      "Total params: 456,330\n",
      "Trainable params: 68,490\n",
      "Non-trainable params: 387,840\n",
      "_________________________________________________________________\n"
     ]
    }
   ],
   "source": [
    "model_Mnist.summary()"
   ]
  },
  {
   "cell_type": "code",
   "execution_count": 51,
   "metadata": {},
   "outputs": [],
   "source": [
    "model_Mnist.compile(loss='categorical_crossentropy', \n",
    "                    optimizer=Adam(),\n",
    "                    metrics=['categorical_accuracy']) #編譯模型"
   ]
  },
  {
   "cell_type": "code",
   "execution_count": 52,
   "metadata": {},
   "outputs": [
    {
     "name": "stdout",
     "output_type": "stream",
     "text": [
      "Train on 60000 samples, validate on 10000 samples\n",
      "Epoch 1/10\n",
      "60000/60000 [==============================] - 24s 397us/sample - loss: 1.0505 - categorical_accuracy: 0.6709 - val_loss: 0.5771 - val_categorical_accuracy: 0.8171\n",
      "Epoch 2/10\n",
      "60000/60000 [==============================] - 23s 390us/sample - loss: 0.5163 - categorical_accuracy: 0.8328 - val_loss: 0.4324 - val_categorical_accuracy: 0.8579\n",
      "Epoch 3/10\n",
      "60000/60000 [==============================] - 23s 377us/sample - loss: 0.4131 - categorical_accuracy: 0.8662 - val_loss: 0.3566 - val_categorical_accuracy: 0.8872\n",
      "Epoch 4/10\n",
      "60000/60000 [==============================] - 23s 378us/sample - loss: 0.3507 - categorical_accuracy: 0.8877 - val_loss: 0.2976 - val_categorical_accuracy: 0.9032\n",
      "Epoch 5/10\n",
      "60000/60000 [==============================] - 23s 379us/sample - loss: 0.3168 - categorical_accuracy: 0.8970 - val_loss: 0.2999 - val_categorical_accuracy: 0.9028\n",
      "Epoch 6/10\n",
      "60000/60000 [==============================] - 22s 373us/sample - loss: 0.2865 - categorical_accuracy: 0.9083 - val_loss: 0.2473 - val_categorical_accuracy: 0.9240\n",
      "Epoch 7/10\n",
      "60000/60000 [==============================] - 22s 373us/sample - loss: 0.2634 - categorical_accuracy: 0.9167 - val_loss: 0.2392 - val_categorical_accuracy: 0.9231\n",
      "Epoch 8/10\n",
      "60000/60000 [==============================] - 23s 380us/sample - loss: 0.2449 - categorical_accuracy: 0.9215 - val_loss: 0.2416 - val_categorical_accuracy: 0.9220\n",
      "Epoch 9/10\n",
      "60000/60000 [==============================] - 23s 377us/sample - loss: 0.2338 - categorical_accuracy: 0.9251 - val_loss: 0.2153 - val_categorical_accuracy: 0.9340\n",
      "Epoch 10/10\n",
      "60000/60000 [==============================] - 22s 373us/sample - loss: 0.2226 - categorical_accuracy: 0.9293 - val_loss: 0.1848 - val_categorical_accuracy: 0.9423\n"
     ]
    },
    {
     "data": {
      "text/plain": [
       "<tensorflow.python.keras.callbacks.History at 0x20fae6abe10>"
      ]
     },
     "execution_count": 52,
     "metadata": {},
     "output_type": "execute_result"
    }
   ],
   "source": [
    "model_Mnist.fit(U_train, v_train,\n",
    "                batch_size=500, \n",
    "                epochs=10,\n",
    "                validation_data=(U_test, v_test)\n",
    "                ) #訓練模型"
   ]
  },
  {
   "cell_type": "markdown",
   "metadata": {},
   "source": [
    "score_train = model.evaluate(X_train, y_train) #評估訓練資料準確率\n",
    "\n",
    "score_test = model.evaluate(X_test, y_test) #評估測試資料準確率"
   ]
  },
  {
   "cell_type": "code",
   "execution_count": 62,
   "metadata": {},
   "outputs": [
    {
     "name": "stdout",
     "output_type": "stream",
     "text": [
      "Train Accuracy:87.68500089645386\n",
      "Test Accuracy: 86.61999702453613\n"
     ]
    }
   ],
   "source": [
    "print(f'Train Accuracy:{score_train[1]*100}') \n",
    "print(f'Test Accuracy: {score_test[1]*100}')"
   ]
  },
  {
   "cell_type": "markdown",
   "metadata": {},
   "source": [
    "* 在Frozen情況下：model_Mnist和model的Train Accuracy、Test Accuracy相同"
   ]
  },
  {
   "cell_type": "markdown",
   "metadata": {},
   "source": [
    "#### 4.2.2 Fine-tune法"
   ]
  },
  {
   "cell_type": "code",
   "execution_count": 66,
   "metadata": {},
   "outputs": [],
   "source": [
    "for layer in CNN_layers:\n",
    "    layer.trainable = True"
   ]
  },
  {
   "cell_type": "code",
   "execution_count": 67,
   "metadata": {},
   "outputs": [
    {
     "name": "stdout",
     "output_type": "stream",
     "text": [
      "Model: \"sequential_5\"\n",
      "_________________________________________________________________\n",
      "Layer (type)                 Output Shape              Param #   \n",
      "=================================================================\n",
      "Conv_1 (Conv2D)              (None, 28, 28, 32)        320       \n",
      "_________________________________________________________________\n",
      "max_pooling2d_12 (MaxPooling (None, 14, 14, 32)        0         \n",
      "_________________________________________________________________\n",
      "Conv_2 (Conv2D)              (None, 14, 14, 64)        18496     \n",
      "_________________________________________________________________\n",
      "max_pooling2d_13 (MaxPooling (None, 7, 7, 64)          0         \n",
      "_________________________________________________________________\n",
      "Conv_3 (Conv2D)              (None, 7, 7, 128)         73856     \n",
      "_________________________________________________________________\n",
      "max_pooling2d_14 (MaxPooling (None, 3, 3, 128)         0         \n",
      "_________________________________________________________________\n",
      "Conv_4 (Conv2D)              (None, 3, 3, 256)         295168    \n",
      "_________________________________________________________________\n",
      "global_average_pooling2d_4 ( (None, 256)               0         \n",
      "_________________________________________________________________\n",
      "dense_15 (Dense)             (None, 128)               32896     \n",
      "_________________________________________________________________\n",
      "dense_16 (Dense)             (None, 256)               33024     \n",
      "_________________________________________________________________\n",
      "dense_17 (Dense)             (None, 10)                2570      \n",
      "=================================================================\n",
      "WARNING:tensorflow:Discrepancy between trainable weights and collected trainable weights, did you set `model.trainable` without calling `model.compile` after ?\n",
      "Total params: 68,490\n",
      "Trainable params: 68,490\n",
      "Non-trainable params: 0\n",
      "_________________________________________________________________\n"
     ]
    }
   ],
   "source": [
    "model_Mnist.summary()"
   ]
  },
  {
   "cell_type": "code",
   "execution_count": 68,
   "metadata": {},
   "outputs": [],
   "source": [
    "model_Mnist.compile(loss='categorical_crossentropy', \n",
    "                    optimizer=Adam(),\n",
    "                    metrics=['categorical_accuracy']) #編譯模型"
   ]
  },
  {
   "cell_type": "code",
   "execution_count": 69,
   "metadata": {},
   "outputs": [
    {
     "name": "stdout",
     "output_type": "stream",
     "text": [
      "Train on 60000 samples, validate on 10000 samples\n",
      "Epoch 1/10\n",
      "60000/60000 [==============================] - 71s 1ms/sample - loss: 0.6087 - categorical_accuracy: 0.8584 - val_loss: 0.1212 - val_categorical_accuracy: 0.9602\n",
      "Epoch 2/10\n",
      "60000/60000 [==============================] - 72s 1ms/sample - loss: 0.1113 - categorical_accuracy: 0.9664 - val_loss: 0.0723 - val_categorical_accuracy: 0.9747\n",
      "Epoch 3/10\n",
      "60000/60000 [==============================] - 68s 1ms/sample - loss: 0.0744 - categorical_accuracy: 0.9772 - val_loss: 0.0735 - val_categorical_accuracy: 0.9762\n",
      "Epoch 4/10\n",
      "60000/60000 [==============================] - 73s 1ms/sample - loss: 0.0624 - categorical_accuracy: 0.9804 - val_loss: 0.0465 - val_categorical_accuracy: 0.9845\n",
      "Epoch 5/10\n",
      "60000/60000 [==============================] - 71s 1ms/sample - loss: 0.0489 - categorical_accuracy: 0.9849 - val_loss: 0.0408 - val_categorical_accuracy: 0.9869\n",
      "Epoch 6/10\n",
      "60000/60000 [==============================] - 71s 1ms/sample - loss: 0.0398 - categorical_accuracy: 0.9871 - val_loss: 0.0358 - val_categorical_accuracy: 0.9882\n",
      "Epoch 7/10\n",
      "60000/60000 [==============================] - 71s 1ms/sample - loss: 0.0368 - categorical_accuracy: 0.9882 - val_loss: 0.0364 - val_categorical_accuracy: 0.9881\n",
      "Epoch 8/10\n",
      "60000/60000 [==============================] - 74s 1ms/sample - loss: 0.0303 - categorical_accuracy: 0.9902 - val_loss: 0.0404 - val_categorical_accuracy: 0.9871\n",
      "Epoch 9/10\n",
      "60000/60000 [==============================] - 70s 1ms/sample - loss: 0.0263 - categorical_accuracy: 0.9919 - val_loss: 0.0284 - val_categorical_accuracy: 0.9907\n",
      "Epoch 10/10\n",
      "60000/60000 [==============================] - 70s 1ms/sample - loss: 0.0215 - categorical_accuracy: 0.9933 - val_loss: 0.0399 - val_categorical_accuracy: 0.9870\n"
     ]
    },
    {
     "data": {
      "text/plain": [
       "<tensorflow.python.keras.callbacks.History at 0x20fcd466c88>"
      ]
     },
     "execution_count": 69,
     "metadata": {},
     "output_type": "execute_result"
    }
   ],
   "source": [
    "model_Mnist.fit(U_train, v_train,\n",
    "                batch_size=500, \n",
    "                epochs=10,\n",
    "                validation_data=(U_test, v_test)\n",
    "                ) #訓練模型"
   ]
  },
  {
   "cell_type": "markdown",
   "metadata": {},
   "source": [
    "score_train = model.evaluate(X_train, y_train) #評估訓練資料準確率\n",
    "\n",
    "score_test = model.evaluate(X_test, y_test) #評估測試資料準確率"
   ]
  },
  {
   "cell_type": "code",
   "execution_count": 72,
   "metadata": {},
   "outputs": [
    {
     "name": "stdout",
     "output_type": "stream",
     "text": [
      "Train Accuracy: 73.26499819755554\n",
      "Test Accuracy: 72.57999777793884\n"
     ]
    }
   ],
   "source": [
    "print(f'Train Accuracy: {score_train[1]*100}')\n",
    "print(f'Test Accuracy: {score_test[1]*100}')"
   ]
  },
  {
   "cell_type": "markdown",
   "metadata": {},
   "source": [
    "* 使用Fine tune方法的情況下：model_Mnist和model的Train Accuracy、Test Accuracy確實不同！"
   ]
  },
  {
   "cell_type": "markdown",
   "metadata": {},
   "source": [
    "### 5.模型結果與結論"
   ]
  },
  {
   "cell_type": "markdown",
   "metadata": {},
   "source": [
    "#### 模型：\n",
    "* 第一個model：\n",
    "    * 模型設定：\n",
    "        - 有四個卷積+池化層：前三個池化層都是Maxpooling、最後一個池化層是GlobalAveragePooling\n",
    "        - FC層的神經元個數分別為50、250、10\n",
    "        - activation只有模型最後輸出層為softmax，其他都是relu\n",
    "        - loss function使用categorical_crossentropy、optimizer用Adam\n",
    "        - batch_size=500、訓練次數為8次\n",
    "    * 訓練結果：\n",
    "        - 訓練資料準確率：0.8760\n",
    "        - 測試資料準確率：0.8662\n",
    "        - 沒有overfitting\n",
    "* 使用遷移學習(model_Mnist)\n",
    "    * 模型設定：\n",
    "        - 有四個卷積+池化層：前三個池化層都是Maxpooling、最後一個池化層是GlobalAveragePooling\n",
    "        - FC層的神經元個數分別為128、256、10\n",
    "        - activation只有模型最後輸出層為softmax，其他都是relu\n",
    "        - loss function使用categorical_crossentropy、optimizer用Adam\n",
    "        - batch_size=500、訓練次數為10次\n",
    "    * 訓練結果--採用Frozen方法：\n",
    "        - 訓練資料準確率：0.9293\n",
    "        - 測試資料準確率：0.9423\n",
    "        - 沒有overfitting\n",
    "        - 訓練速度很快(一次23秒)\n",
    "    * 訓練結果--採用Fine-tune方法：\n",
    "        - 訓練資料準確率：0.9933\n",
    "        - 測試資料準確率：0.9870\n",
    "        - 沒有overfitting\n",
    "        - 訓練速度比用Frozen慢一點(一次70秒)、但準確率比它高\n",
    "#### 結論：使用遷移學習的Frozen方式訓練模型真的很快速，訓練時間為Fine-tune方式的1/3，而且兩者的準確率都很高。\n",
    "    #### 遷移學習可以把別的模型訓練優質的部分放到另一個模型很有趣也很實用！\n"
   ]
  },
  {
   "cell_type": "code",
   "execution_count": null,
   "metadata": {},
   "outputs": [],
   "source": []
  }
 ],
 "metadata": {
  "kernelspec": {
   "display_name": "Python 3",
   "language": "python",
   "name": "python3"
  },
  "language_info": {
   "codemirror_mode": {
    "name": "ipython",
    "version": 3
   },
   "file_extension": ".py",
   "mimetype": "text/x-python",
   "name": "python",
   "nbconvert_exporter": "python",
   "pygments_lexer": "ipython3",
   "version": "3.7.3"
  }
 },
 "nbformat": 4,
 "nbformat_minor": 2
}
