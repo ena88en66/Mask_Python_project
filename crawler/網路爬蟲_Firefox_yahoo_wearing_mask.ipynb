{
 "cells": [
  {
   "cell_type": "code",
   "execution_count": 14,
   "metadata": {},
   "outputs": [],
   "source": [
    "from selenium import webdriver\n",
    "import time\n",
    "import urllib\n",
    "import os"
   ]
  },
  {
   "cell_type": "code",
   "execution_count": 15,
   "metadata": {},
   "outputs": [],
   "source": [
    "# 存圖位置\n",
    "local_path = r\"C:\\Users\\ena88\\Desktop\\mask4\""
   ]
  },
  {
   "cell_type": "code",
   "execution_count": 16,
   "metadata": {},
   "outputs": [],
   "source": [
    "driverPath = r\"C:\\Program Files\\Mozilla Firefox\\geckodriver_win64\" #填入剛剛記下的路徑\n",
    "driver = webdriver.Firefox(driverPath)"
   ]
  },
  {
   "cell_type": "code",
   "execution_count": 17,
   "metadata": {},
   "outputs": [],
   "source": [
    "driver.get(\"https://tw.images.search.yahoo.com/search/images;_ylt=AwrtS3lM3bBeLXEA2qtt1gt.?p=wearing+medical+mask&ei=UTF-8&fr=sfp&imgty=face&fr2=p%3As%2Cv%3Ai\")"
   ]
  },
  {
   "cell_type": "code",
   "execution_count": 18,
   "metadata": {},
   "outputs": [],
   "source": [
    "time.sleep(5)"
   ]
  },
  {
   "cell_type": "code",
   "execution_count": 19,
   "metadata": {},
   "outputs": [],
   "source": [
    "img_url_dic = {} "
   ]
  },
  {
   "cell_type": "code",
   "execution_count": 22,
   "metadata": {},
   "outputs": [],
   "source": [
    "# xpath = '//img[contains(@id, \"yui_3_5_1_1_1588\" )]' \n",
    "xpath = '//img[@id=\"yui_3_5_1_1_1588660651304_646\"]' "
   ]
  },
  {
   "cell_type": "code",
   "execution_count": null,
   "metadata": {},
   "outputs": [],
   "source": [
    "pos = 0  \n",
    "m = 0 # 圖片編號 \n",
    "for i in range(100):  \n",
    "    pos += i*500 # 每次下滾500  \n",
    "    js = \"document.documentElement.scrollTop=%d\" % pos  \n",
    "    driver.execute_script(js)  \n",
    "    time.sleep(5)\n",
    "    \n",
    "    for element in driver.find_elements_by_xpath(xpath):\n",
    "        try:\n",
    "            img_url = element.get_attribute('class src')\n",
    "            \n",
    "            # 保存圖片到指定路徑\n",
    "            if img_url != None and not img_url in img_url_dic:\n",
    "                img_url_dic[img_url] = ''  \n",
    "                m += 1\n",
    "                # print(img_url)\n",
    "                ext = img_url.split('/')[-1]\n",
    "                # print(ext)\n",
    "                filename = 'B' + str(m) + '_' + ext +'.jpg'\n",
    "                print(filename)\n",
    "                \n",
    "                # 保存圖片\n",
    "                urllib.request.urlretrieve(img_url,os.path.join(local_path ,filename))\n",
    "                \n",
    "        except OSError:\n",
    "            print('發生OSError!')\n",
    "            print(pos)\n",
    "            break;\n",
    "            \n",
    "driver.close()"
   ]
  },
  {
   "cell_type": "code",
   "execution_count": null,
   "metadata": {},
   "outputs": [],
   "source": []
  }
 ],
 "metadata": {
  "kernelspec": {
   "display_name": "Python 3",
   "language": "python",
   "name": "python3"
  },
  "language_info": {
   "codemirror_mode": {
    "name": "ipython",
    "version": 3
   },
   "file_extension": ".py",
   "mimetype": "text/x-python",
   "name": "python",
   "nbconvert_exporter": "python",
   "pygments_lexer": "ipython3",
   "version": "3.7.3"
  }
 },
 "nbformat": 4,
 "nbformat_minor": 2
}
