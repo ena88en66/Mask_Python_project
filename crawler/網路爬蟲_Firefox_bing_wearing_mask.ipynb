{
 "cells": [
  {
   "cell_type": "code",
   "execution_count": 4,
   "metadata": {},
   "outputs": [],
   "source": [
    "from selenium import webdriver\n",
    "import time\n",
    "import urllib\n",
    "import os"
   ]
  },
  {
   "cell_type": "code",
   "execution_count": 12,
   "metadata": {},
   "outputs": [],
   "source": [
    "# 存圖位置\n",
    "local_path = r\"C:\\Users\\ena88\\Desktop\\mask3\""
   ]
  },
  {
   "cell_type": "code",
   "execution_count": 13,
   "metadata": {},
   "outputs": [],
   "source": [
    "driverPath = r\"C:\\Program Files\\Mozilla Firefox\\geckodriver_win64\" #填入剛剛記下的路徑\n",
    "driver = webdriver.Firefox(driverPath)"
   ]
  },
  {
   "cell_type": "code",
   "execution_count": 14,
   "metadata": {},
   "outputs": [],
   "source": [
    "driver.get(\"https://www.bing.com/images/search?scope=images&sp=-1&pq=wearing+mask&sc=0-12&cvid=63518F6E37EF4B9B8FE42DC2ADB726C5&cw=1117&ch=706&q=wearing+mask&qft=+filterui:face-face&form=IRFLTR&first=1\") #前往這個網址"
   ]
  },
  {
   "cell_type": "code",
   "execution_count": 15,
   "metadata": {},
   "outputs": [],
   "source": [
    "time.sleep(15)"
   ]
  },
  {
   "cell_type": "code",
   "execution_count": 16,
   "metadata": {},
   "outputs": [],
   "source": [
    "img_url_dic = {} "
   ]
  },
  {
   "cell_type": "code",
   "execution_count": 17,
   "metadata": {},
   "outputs": [],
   "source": [
    "xpath = '//img[@class=\"mimg rms_img\"]' #mimg vimgld mimg rms_img"
   ]
  },
  {
   "cell_type": "code",
   "execution_count": 18,
   "metadata": {},
   "outputs": [
    {
     "name": "stdout",
     "output_type": "stream",
     "text": [
      "1B_Z.jpg\n",
      "2B_Z.jpg\n",
      "3B_2Q==.jpg\n",
      "4B_Z.jpg\n",
      "5B_9k=.jpg\n",
      "6B_2Q==.jpg\n",
      "7B_9k=.jpg\n",
      "8B_9k=.jpg\n",
      "9B_Z.jpg\n",
      "10B_2Q==.jpg\n"
     ]
    },
    {
     "ename": "KeyboardInterrupt",
     "evalue": "",
     "output_type": "error",
     "traceback": [
      "\u001b[1;31m---------------------------------------------------------------------------\u001b[0m",
      "\u001b[1;31mKeyboardInterrupt\u001b[0m                         Traceback (most recent call last)",
      "\u001b[1;32m<ipython-input-18-3971fc148980>\u001b[0m in \u001b[0;36m<module>\u001b[1;34m\u001b[0m\n\u001b[0;32m      5\u001b[0m     \u001b[0mjs\u001b[0m \u001b[1;33m=\u001b[0m \u001b[1;34m\"document.documentElement.scrollTop=%d\"\u001b[0m \u001b[1;33m%\u001b[0m \u001b[0mpos\u001b[0m\u001b[1;33m\u001b[0m\u001b[1;33m\u001b[0m\u001b[0m\n\u001b[0;32m      6\u001b[0m     \u001b[0mdriver\u001b[0m\u001b[1;33m.\u001b[0m\u001b[0mexecute_script\u001b[0m\u001b[1;33m(\u001b[0m\u001b[0mjs\u001b[0m\u001b[1;33m)\u001b[0m\u001b[1;33m\u001b[0m\u001b[1;33m\u001b[0m\u001b[0m\n\u001b[1;32m----> 7\u001b[1;33m     \u001b[0mtime\u001b[0m\u001b[1;33m.\u001b[0m\u001b[0msleep\u001b[0m\u001b[1;33m(\u001b[0m\u001b[1;36m15\u001b[0m\u001b[1;33m)\u001b[0m\u001b[1;33m\u001b[0m\u001b[1;33m\u001b[0m\u001b[0m\n\u001b[0m\u001b[0;32m      8\u001b[0m \u001b[1;33m\u001b[0m\u001b[0m\n\u001b[0;32m      9\u001b[0m     \u001b[1;32mfor\u001b[0m \u001b[0melement\u001b[0m \u001b[1;32min\u001b[0m \u001b[0mdriver\u001b[0m\u001b[1;33m.\u001b[0m\u001b[0mfind_elements_by_xpath\u001b[0m\u001b[1;33m(\u001b[0m\u001b[0mxpath\u001b[0m\u001b[1;33m)\u001b[0m\u001b[1;33m:\u001b[0m\u001b[1;33m\u001b[0m\u001b[1;33m\u001b[0m\u001b[0m\n",
      "\u001b[1;31mKeyboardInterrupt\u001b[0m: "
     ]
    }
   ],
   "source": [
    "pos = 0  \n",
    "m = 0 # 圖片編號 \n",
    "for i in range(100):  \n",
    "    pos += i*500 # 每次下滾500  \n",
    "    js = \"document.documentElement.scrollTop=%d\" % pos  \n",
    "    driver.execute_script(js)  \n",
    "    time.sleep(15)\n",
    "    \n",
    "    for element in driver.find_elements_by_xpath(xpath):\n",
    "        try:\n",
    "            img_url = element.get_attribute('src')\n",
    "            \n",
    "            # 保存圖片到指定路徑\n",
    "            if img_url != None and not img_url in img_url_dic:\n",
    "                img_url_dic[img_url] = ''  \n",
    "                m += 1\n",
    "                # print(img_url)\n",
    "                ext = img_url.split('/')[-1]\n",
    "                # print(ext)\n",
    "                filename = str(m) + 'B' + '_' + ext +'.jpg'\n",
    "                print(filename)\n",
    "                \n",
    "                # 保存圖片\n",
    "                urllib.request.urlretrieve(img_url,os.path.join(local_path ,filename))\n",
    "                \n",
    "        except OSError:\n",
    "            print('發生OSError!')\n",
    "            print(pos)\n",
    "            break;\n",
    "            \n",
    "driver.close()"
   ]
  },
  {
   "cell_type": "code",
   "execution_count": null,
   "metadata": {},
   "outputs": [],
   "source": []
  }
 ],
 "metadata": {
  "kernelspec": {
   "display_name": "Python 3",
   "language": "python",
   "name": "python3"
  },
  "language_info": {
   "codemirror_mode": {
    "name": "ipython",
    "version": 3
   },
   "file_extension": ".py",
   "mimetype": "text/x-python",
   "name": "python",
   "nbconvert_exporter": "python",
   "pygments_lexer": "ipython3",
   "version": "3.7.3"
  }
 },
 "nbformat": 4,
 "nbformat_minor": 2
}
